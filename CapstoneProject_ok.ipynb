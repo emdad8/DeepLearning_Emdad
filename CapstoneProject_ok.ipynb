{
 "cells": [
  {
   "cell_type": "code",
   "execution_count": 14,
   "id": "f89e9fa4-f415-43b4-8a8b-7b9693d393cf",
   "metadata": {},
   "outputs": [],
   "source": [
    "import h5py\n",
    "import numpy as np\n",
    "import pandas as pd\n",
    "import h5py\n",
    "import matplotlib.pyplot as plt\n",
    "%matplotlib inline\n",
    "\n",
    "from tensorflow.keras.layers import Conv2D,Convolution2D\n",
    "from tensorflow.keras.layers import MaxPooling2D\n",
    "from tensorflow.keras.layers import Flatten\n",
    "from tensorflow.keras.layers import Dropout \n",
    "from tensorflow.keras.layers import Dense\n",
    "from tensorflow.keras.layers import BatchNormalization\n",
    "from tensorflow.keras.optimizers import Adam,SGD\n",
    "from tensorflow.keras.models import Sequential\n",
    "from sklearn.preprocessing import MinMaxScaler\n",
    "import warnings\n",
    "warnings.filterwarnings(\"ignore\")"
   ]
  },
  {
   "cell_type": "code",
   "execution_count": 3,
   "id": "f236c205-a46e-42b8-a324-aa31318480af",
   "metadata": {},
   "outputs": [
    {
     "name": "stdout",
     "output_type": "stream",
     "text": [
      "datasets : \n",
      " ['X_test', 'X_train', 'X_val', 'y_test', 'y_train', 'y_val']\n"
     ]
    }
   ],
   "source": [
    "file=h5py.File('SVHN_single_grey1.h5','r')\n",
    "\n",
    "ls=list(file.keys())\n",
    "print('datasets : \\n',ls)"
   ]
  },
  {
   "cell_type": "code",
   "execution_count": 4,
   "id": "ddbe319d-2b9d-4182-abf9-f149cf221a0c",
   "metadata": {},
   "outputs": [],
   "source": [
    "x1test=list(file.keys())[0]\n",
    "x1train=list(file.keys())[1]\n",
    "x1val=list(file.keys())[2]\n",
    "y1test=list(file.keys())[3]\n",
    "y1train=list(file.keys())[4]\n",
    "y1val=list(file.keys())[5]"
   ]
  },
  {
   "cell_type": "code",
   "execution_count": 5,
   "id": "2818b9cb-f364-406d-8d5a-00abdbf1b9a7",
   "metadata": {},
   "outputs": [],
   "source": [
    "# print(type(file[data]))"
   ]
  },
  {
   "cell_type": "code",
   "execution_count": 6,
   "id": "42aa6a0d-333c-480e-84d4-e22751e81307",
   "metadata": {},
   "outputs": [],
   "source": [
    "x1test_array=file[x1test][()]\n",
    "x1train_array=file[x1train][()]\n",
    "x1val_array=file[x1val][()]\n",
    "y1test_array=file[y1test][()]\n",
    "y1train_array=file[y1train][()]\n",
    "y1val_array=file[y1val][()]\n",
    "\n",
    "# print(x1test_array)"
   ]
  },
  {
   "cell_type": "code",
   "execution_count": 7,
   "id": "ed3a91d7-af2d-494f-85ef-976239694fef",
   "metadata": {},
   "outputs": [
    {
     "name": "stdout",
     "output_type": "stream",
     "text": [
      "(18000, 32, 32)\n"
     ]
    }
   ],
   "source": [
    "# print(ds_array.shape)\n",
    "print(x1test_array.shape)"
   ]
  },
  {
   "cell_type": "code",
   "execution_count": 8,
   "id": "b84ce92e-9ed8-4778-bfc4-acbd4e584510",
   "metadata": {},
   "outputs": [
    {
     "name": "stdout",
     "output_type": "stream",
     "text": [
      "(42000, 32, 32)\n"
     ]
    }
   ],
   "source": [
    "print(x1train_array.shape)"
   ]
  },
  {
   "cell_type": "code",
   "execution_count": 9,
   "id": "1cfd014e-6acf-4a60-9feb-473f65763115",
   "metadata": {},
   "outputs": [
    {
     "name": "stdout",
     "output_type": "stream",
     "text": [
      "(60000, 32, 32)\n"
     ]
    }
   ],
   "source": [
    "print(x1val_array.shape)"
   ]
  },
  {
   "cell_type": "code",
   "execution_count": 10,
   "id": "ee016306-8fc5-4b95-9c83-3c3ec5a34185",
   "metadata": {},
   "outputs": [
    {
     "name": "stdout",
     "output_type": "stream",
     "text": [
      "(18000,)\n"
     ]
    }
   ],
   "source": [
    "print(y1test_array.shape)"
   ]
  },
  {
   "cell_type": "code",
   "execution_count": 11,
   "id": "60a24fb4-f172-4691-8dad-03e6c03113f2",
   "metadata": {},
   "outputs": [
    {
     "name": "stdout",
     "output_type": "stream",
     "text": [
      "(42000,)\n"
     ]
    }
   ],
   "source": [
    "print(y1train_array.shape)"
   ]
  },
  {
   "cell_type": "code",
   "execution_count": 12,
   "id": "57d93ae1-4689-4c98-b5ef-c51c46d1b387",
   "metadata": {},
   "outputs": [
    {
     "name": "stdout",
     "output_type": "stream",
     "text": [
      "(60000,)\n"
     ]
    }
   ],
   "source": [
    "print(y1val_array.shape)"
   ]
  },
  {
   "cell_type": "code",
   "execution_count": 123,
   "id": "95ad951c-bb8b-4290-b3c4-4d2488466612",
   "metadata": {},
   "outputs": [],
   "source": [
    "# x11=x1test_array\n",
    "# x11_r=np.array(x11)\n",
    "# x11_r"
   ]
  },
  {
   "cell_type": "code",
   "execution_count": 13,
   "id": "3bb1f487-0871-4131-bade-65691247fb16",
   "metadata": {},
   "outputs": [
    {
     "name": "stdout",
     "output_type": "stream",
     "text": [
      "[[[ 33.0704  30.2601  26.852  ...  71.4471  58.2204  42.9939]\n",
      "  [ 25.2283  25.5533  29.9765 ... 113.0209 103.3639  84.2949]\n",
      "  [ 26.2775  22.6137  40.4763 ... 113.3028 121.775  115.4228]\n",
      "  ...\n",
      "  [ 28.5502  36.212   45.0801 ...  24.1359  25.0927  26.0603]\n",
      "  [ 38.4352  26.4733  23.2717 ...  28.1094  29.4683  30.0661]\n",
      "  [ 50.2984  26.0773  24.0389 ...  49.6682  50.853   53.0377]]\n",
      "\n",
      " [[ 86.9591  87.0685  88.3735 ...  91.8014  89.7477  92.5302]\n",
      "  [ 86.688   86.9114  87.4337 ...  90.7306  87.204   88.5629]\n",
      "  [ 85.9654  85.8145  85.9239 ...  63.8626  59.8199  54.8805]\n",
      "  ...\n",
      "  [ 90.2236  91.0448  93.4637 ...  55.3535  48.5822  44.0557]\n",
      "  [ 90.6427  90.4039  90.937  ...  78.2696  77.4977  74.27  ]\n",
      "  [ 88.0236  88.1977  86.6709 ...  75.2206  76.6396  79.2865]]\n",
      "\n",
      " [[123.125  125.8581 122.0757 ... 123.5747 124.1186 123.3144]\n",
      "  [121.1683 124.1294 117.4613 ... 115.6078 119.5751 122.8306]\n",
      "  [124.6132 121.1019 109.6623 ... 111.1783 119.7923 124.7595]\n",
      "  ...\n",
      "  [135.1391 127.3679 117.754  ...  95.0919 105.5917 114.9283]\n",
      "  [134.8402 131.9545 124.0415 ...  93.864  105.3036 115.1132]\n",
      "  [134.8402 132.0685 128.34   ...  93.9349 104.7875 113.8252]]\n",
      "\n",
      " ...\n",
      "\n",
      " [[154.094  155.8057 156.8164 ... 138.9322 136.1605 133.0468]\n",
      "  [145.725  147.4367 150.0343 ... 145.4477 140.9751 136.9647]\n",
      "  [144.9531 144.8391 143.85   ... 143.263  143.263  146.4799]\n",
      "  ...\n",
      "  [150.2237 150.8107 150.1097 ...  96.8207  96.9239  97.2228]\n",
      "  [151.6365 152.2235 151.1096 ... 120.8892 121.8891 123.1771]\n",
      "  [146.5769 147.9358 147.9358 ... 135.1328 136.6596 137.6595]]\n",
      "\n",
      " [[207.4954 208.4953 213.0218 ... 210.1361 208.4244 203.4357]\n",
      "  [204.4957 207.6094 213.6088 ... 209.4243 207.8374 202.5498]\n",
      "  [204.3216 208.3212 212.9078 ... 209.0222 207.1364 201.4359]\n",
      "  ...\n",
      "  [199.1372 202.083  207.4523 ... 212.8477 211.8478 209.5491]\n",
      "  [201.137  201.61   205.2676 ... 213.9616 213.5487 209.1362]\n",
      "  [202.9088 202.9088 206.9084 ... 214.1357 212.1359 209.1362]]\n",
      "\n",
      " [[ 95.0784  96.0783 100.0779 ... 122.7551 122.8691 122.8691]\n",
      "  [ 95.0784  96.0783 100.0779 ... 122.8691 122.9831 122.9831]\n",
      "  [ 95.0784  96.0783 101.0778 ... 126.5698 126.9827 126.9827]\n",
      "  ...\n",
      "  [ 98.833   99.8329 103.8325 ... 129.8962 131.896  131.896 ]\n",
      "  [ 98.833   99.8329 103.8325 ... 136.0805 138.1943 138.1943]\n",
      "  [ 98.833   99.8329 103.8325 ... 138.0803 140.493  140.493 ]]]\n"
     ]
    }
   ],
   "source": [
    "# xr1_trainarray=x1train_array\n",
    "# xr1_trainarray=np.reshape( xr1_trainarray,( xr1_trainarray.shape[0]))/255.0\n",
    "    \n",
    "xr1_trainarray=x1train_array\n",
    "print(xr1_trainarray)"
   ]
  },
  {
   "cell_type": "code",
   "execution_count": 142,
   "id": "9aade610-fbcb-4c81-83f5-f440e31384bb",
   "metadata": {},
   "outputs": [],
   "source": [
    "from sklearn.preprocessing import MinMaxScaler"
   ]
  },
  {
   "cell_type": "code",
   "execution_count": 143,
   "id": "2502721e-ea6e-4ab4-9fe3-479de728c431",
   "metadata": {},
   "outputs": [],
   "source": [
    "scaler=MinMaxScaler()"
   ]
  },
  {
   "cell_type": "code",
   "execution_count": 145,
   "id": "5f4b7671-864b-46a6-8e59-1b0737e82e60",
   "metadata": {},
   "outputs": [
    {
     "ename": "ValueError",
     "evalue": "Found array with dim 3. MinMaxScaler expected <= 2.",
     "output_type": "error",
     "traceback": [
      "\u001b[1;31m---------------------------------------------------------------------------\u001b[0m",
      "\u001b[1;31mValueError\u001b[0m                                Traceback (most recent call last)",
      "Input \u001b[1;32mIn [145]\u001b[0m, in \u001b[0;36m<cell line: 1>\u001b[1;34m()\u001b[0m\n\u001b[1;32m----> 1\u001b[0m \u001b[43mscaler\u001b[49m\u001b[38;5;241;43m.\u001b[39;49m\u001b[43mfit_transform\u001b[49m\u001b[43m(\u001b[49m\u001b[43mxr1_trainarray\u001b[49m\u001b[43m)\u001b[49m\n",
      "File \u001b[1;32m~\\anaconda3\\lib\\site-packages\\sklearn\\base.py:867\u001b[0m, in \u001b[0;36mTransformerMixin.fit_transform\u001b[1;34m(self, X, y, **fit_params)\u001b[0m\n\u001b[0;32m    863\u001b[0m \u001b[38;5;66;03m# non-optimized default implementation; override when a better\u001b[39;00m\n\u001b[0;32m    864\u001b[0m \u001b[38;5;66;03m# method is possible for a given clustering algorithm\u001b[39;00m\n\u001b[0;32m    865\u001b[0m \u001b[38;5;28;01mif\u001b[39;00m y \u001b[38;5;129;01mis\u001b[39;00m \u001b[38;5;28;01mNone\u001b[39;00m:\n\u001b[0;32m    866\u001b[0m     \u001b[38;5;66;03m# fit method of arity 1 (unsupervised transformation)\u001b[39;00m\n\u001b[1;32m--> 867\u001b[0m     \u001b[38;5;28;01mreturn\u001b[39;00m \u001b[38;5;28mself\u001b[39m\u001b[38;5;241m.\u001b[39mfit(X, \u001b[38;5;241m*\u001b[39m\u001b[38;5;241m*\u001b[39mfit_params)\u001b[38;5;241m.\u001b[39mtransform(X)\n\u001b[0;32m    868\u001b[0m \u001b[38;5;28;01melse\u001b[39;00m:\n\u001b[0;32m    869\u001b[0m     \u001b[38;5;66;03m# fit method of arity 2 (supervised transformation)\u001b[39;00m\n\u001b[0;32m    870\u001b[0m     \u001b[38;5;28;01mreturn\u001b[39;00m \u001b[38;5;28mself\u001b[39m\u001b[38;5;241m.\u001b[39mfit(X, y, \u001b[38;5;241m*\u001b[39m\u001b[38;5;241m*\u001b[39mfit_params)\u001b[38;5;241m.\u001b[39mtransform(X)\n",
      "File \u001b[1;32m~\\anaconda3\\lib\\site-packages\\sklearn\\preprocessing\\_data.py:420\u001b[0m, in \u001b[0;36mMinMaxScaler.fit\u001b[1;34m(self, X, y)\u001b[0m\n\u001b[0;32m    418\u001b[0m \u001b[38;5;66;03m# Reset internal state before fitting\u001b[39;00m\n\u001b[0;32m    419\u001b[0m \u001b[38;5;28mself\u001b[39m\u001b[38;5;241m.\u001b[39m_reset()\n\u001b[1;32m--> 420\u001b[0m \u001b[38;5;28;01mreturn\u001b[39;00m \u001b[38;5;28;43mself\u001b[39;49m\u001b[38;5;241;43m.\u001b[39;49m\u001b[43mpartial_fit\u001b[49m\u001b[43m(\u001b[49m\u001b[43mX\u001b[49m\u001b[43m,\u001b[49m\u001b[43m \u001b[49m\u001b[43my\u001b[49m\u001b[43m)\u001b[49m\n",
      "File \u001b[1;32m~\\anaconda3\\lib\\site-packages\\sklearn\\preprocessing\\_data.py:457\u001b[0m, in \u001b[0;36mMinMaxScaler.partial_fit\u001b[1;34m(self, X, y)\u001b[0m\n\u001b[0;32m    451\u001b[0m     \u001b[38;5;28;01mraise\u001b[39;00m \u001b[38;5;167;01mTypeError\u001b[39;00m(\n\u001b[0;32m    452\u001b[0m         \u001b[38;5;124m\"\u001b[39m\u001b[38;5;124mMinMaxScaler does not support sparse input. \u001b[39m\u001b[38;5;124m\"\u001b[39m\n\u001b[0;32m    453\u001b[0m         \u001b[38;5;124m\"\u001b[39m\u001b[38;5;124mConsider using MaxAbsScaler instead.\u001b[39m\u001b[38;5;124m\"\u001b[39m\n\u001b[0;32m    454\u001b[0m     )\n\u001b[0;32m    456\u001b[0m first_pass \u001b[38;5;241m=\u001b[39m \u001b[38;5;129;01mnot\u001b[39;00m \u001b[38;5;28mhasattr\u001b[39m(\u001b[38;5;28mself\u001b[39m, \u001b[38;5;124m\"\u001b[39m\u001b[38;5;124mn_samples_seen_\u001b[39m\u001b[38;5;124m\"\u001b[39m)\n\u001b[1;32m--> 457\u001b[0m X \u001b[38;5;241m=\u001b[39m \u001b[38;5;28;43mself\u001b[39;49m\u001b[38;5;241;43m.\u001b[39;49m\u001b[43m_validate_data\u001b[49m\u001b[43m(\u001b[49m\n\u001b[0;32m    458\u001b[0m \u001b[43m    \u001b[49m\u001b[43mX\u001b[49m\u001b[43m,\u001b[49m\n\u001b[0;32m    459\u001b[0m \u001b[43m    \u001b[49m\u001b[43mreset\u001b[49m\u001b[38;5;241;43m=\u001b[39;49m\u001b[43mfirst_pass\u001b[49m\u001b[43m,\u001b[49m\n\u001b[0;32m    460\u001b[0m \u001b[43m    \u001b[49m\u001b[43mdtype\u001b[49m\u001b[38;5;241;43m=\u001b[39;49m\u001b[43mFLOAT_DTYPES\u001b[49m\u001b[43m,\u001b[49m\n\u001b[0;32m    461\u001b[0m \u001b[43m    \u001b[49m\u001b[43mforce_all_finite\u001b[49m\u001b[38;5;241;43m=\u001b[39;49m\u001b[38;5;124;43m\"\u001b[39;49m\u001b[38;5;124;43mallow-nan\u001b[39;49m\u001b[38;5;124;43m\"\u001b[39;49m\u001b[43m,\u001b[49m\n\u001b[0;32m    462\u001b[0m \u001b[43m\u001b[49m\u001b[43m)\u001b[49m\n\u001b[0;32m    464\u001b[0m data_min \u001b[38;5;241m=\u001b[39m np\u001b[38;5;241m.\u001b[39mnanmin(X, axis\u001b[38;5;241m=\u001b[39m\u001b[38;5;241m0\u001b[39m)\n\u001b[0;32m    465\u001b[0m data_max \u001b[38;5;241m=\u001b[39m np\u001b[38;5;241m.\u001b[39mnanmax(X, axis\u001b[38;5;241m=\u001b[39m\u001b[38;5;241m0\u001b[39m)\n",
      "File \u001b[1;32m~\\anaconda3\\lib\\site-packages\\sklearn\\base.py:577\u001b[0m, in \u001b[0;36mBaseEstimator._validate_data\u001b[1;34m(self, X, y, reset, validate_separately, **check_params)\u001b[0m\n\u001b[0;32m    575\u001b[0m     \u001b[38;5;28;01mraise\u001b[39;00m \u001b[38;5;167;01mValueError\u001b[39;00m(\u001b[38;5;124m\"\u001b[39m\u001b[38;5;124mValidation should be done on X, y or both.\u001b[39m\u001b[38;5;124m\"\u001b[39m)\n\u001b[0;32m    576\u001b[0m \u001b[38;5;28;01melif\u001b[39;00m \u001b[38;5;129;01mnot\u001b[39;00m no_val_X \u001b[38;5;129;01mand\u001b[39;00m no_val_y:\n\u001b[1;32m--> 577\u001b[0m     X \u001b[38;5;241m=\u001b[39m check_array(X, input_name\u001b[38;5;241m=\u001b[39m\u001b[38;5;124m\"\u001b[39m\u001b[38;5;124mX\u001b[39m\u001b[38;5;124m\"\u001b[39m, \u001b[38;5;241m*\u001b[39m\u001b[38;5;241m*\u001b[39mcheck_params)\n\u001b[0;32m    578\u001b[0m     out \u001b[38;5;241m=\u001b[39m X\n\u001b[0;32m    579\u001b[0m \u001b[38;5;28;01melif\u001b[39;00m no_val_X \u001b[38;5;129;01mand\u001b[39;00m \u001b[38;5;129;01mnot\u001b[39;00m no_val_y:\n",
      "File \u001b[1;32m~\\anaconda3\\lib\\site-packages\\sklearn\\utils\\validation.py:893\u001b[0m, in \u001b[0;36mcheck_array\u001b[1;34m(array, accept_sparse, accept_large_sparse, dtype, order, copy, force_all_finite, ensure_2d, allow_nd, ensure_min_samples, ensure_min_features, estimator, input_name)\u001b[0m\n\u001b[0;32m    887\u001b[0m     \u001b[38;5;28;01mraise\u001b[39;00m \u001b[38;5;167;01mValueError\u001b[39;00m(\n\u001b[0;32m    888\u001b[0m         \u001b[38;5;124m\"\u001b[39m\u001b[38;5;124mdtype=\u001b[39m\u001b[38;5;124m'\u001b[39m\u001b[38;5;124mnumeric\u001b[39m\u001b[38;5;124m'\u001b[39m\u001b[38;5;124m is not compatible with arrays of bytes/strings.\u001b[39m\u001b[38;5;124m\"\u001b[39m\n\u001b[0;32m    889\u001b[0m         \u001b[38;5;124m\"\u001b[39m\u001b[38;5;124mConvert your data to numeric values explicitly instead.\u001b[39m\u001b[38;5;124m\"\u001b[39m\n\u001b[0;32m    890\u001b[0m     )\n\u001b[0;32m    892\u001b[0m \u001b[38;5;28;01mif\u001b[39;00m \u001b[38;5;129;01mnot\u001b[39;00m allow_nd \u001b[38;5;129;01mand\u001b[39;00m array\u001b[38;5;241m.\u001b[39mndim \u001b[38;5;241m>\u001b[39m\u001b[38;5;241m=\u001b[39m \u001b[38;5;241m3\u001b[39m:\n\u001b[1;32m--> 893\u001b[0m     \u001b[38;5;28;01mraise\u001b[39;00m \u001b[38;5;167;01mValueError\u001b[39;00m(\n\u001b[0;32m    894\u001b[0m         \u001b[38;5;124m\"\u001b[39m\u001b[38;5;124mFound array with dim \u001b[39m\u001b[38;5;132;01m%d\u001b[39;00m\u001b[38;5;124m. \u001b[39m\u001b[38;5;132;01m%s\u001b[39;00m\u001b[38;5;124m expected <= 2.\u001b[39m\u001b[38;5;124m\"\u001b[39m\n\u001b[0;32m    895\u001b[0m         \u001b[38;5;241m%\u001b[39m (array\u001b[38;5;241m.\u001b[39mndim, estimator_name)\n\u001b[0;32m    896\u001b[0m     )\n\u001b[0;32m    898\u001b[0m \u001b[38;5;28;01mif\u001b[39;00m force_all_finite:\n\u001b[0;32m    899\u001b[0m     _assert_all_finite(\n\u001b[0;32m    900\u001b[0m         array,\n\u001b[0;32m    901\u001b[0m         input_name\u001b[38;5;241m=\u001b[39minput_name,\n\u001b[0;32m    902\u001b[0m         estimator_name\u001b[38;5;241m=\u001b[39mestimator_name,\n\u001b[0;32m    903\u001b[0m         allow_nan\u001b[38;5;241m=\u001b[39mforce_all_finite \u001b[38;5;241m==\u001b[39m \u001b[38;5;124m\"\u001b[39m\u001b[38;5;124mallow-nan\u001b[39m\u001b[38;5;124m\"\u001b[39m,\n\u001b[0;32m    904\u001b[0m     )\n",
      "\u001b[1;31mValueError\u001b[0m: Found array with dim 3. MinMaxScaler expected <= 2."
     ]
    }
   ],
   "source": [
    "scaler.fit_transform(xr1_trainarray)"
   ]
  },
  {
   "cell_type": "markdown",
   "id": "97deb3dd-3d4c-423a-9a31-2c1ef82cdb38",
   "metadata": {},
   "source": [
    "do obfuscate"
   ]
  },
  {
   "cell_type": "code",
   "execution_count": 2,
   "id": "29b13c5a-5b6a-400e-83c5-53047ea5b85c",
   "metadata": {},
   "outputs": [],
   "source": [
    "file_name='../e.haque/SVHN_single_grey1.h5'\n",
    "df=h5py.File(file_name,'r+')\n",
    "data=np.array(df)"
   ]
  },
  {
   "cell_type": "markdown",
   "id": "1ee38ac9-7cd6-4f80-b6b7-664c414bb794",
   "metadata": {},
   "source": [
    "First we get the dataset"
   ]
  },
  {
   "cell_type": "code",
   "execution_count": 3,
   "id": "b9c9016a-4cbc-429a-8e9b-d855050b2154",
   "metadata": {},
   "outputs": [
    {
     "data": {
      "text/plain": [
       "['X_test', 'X_train', 'X_val', 'y_test', 'y_train', 'y_val']"
      ]
     },
     "execution_count": 3,
     "metadata": {},
     "output_type": "execute_result"
    }
   ],
   "source": [
    "list(df.keys())"
   ]
  },
  {
   "cell_type": "markdown",
   "id": "0f31904f-366a-4adf-96bf-18cfaaccaa7d",
   "metadata": {},
   "source": [
    "Converting Images to numpy array format"
   ]
  },
  {
   "cell_type": "code",
   "execution_count": 4,
   "id": "0af9a619-61dc-4bc3-ae95-0199b7edb177",
   "metadata": {},
   "outputs": [],
   "source": [
    "xtest=np.array(df['X_test'])\n",
    "ytest=np.array(df['y_test'])\n",
    "xval=np.array(df['X_val'])\n",
    "\n",
    "xtrain=np.array(df['X_train'])\n",
    "ytrain=np.array(df['y_train'])\n",
    "yval=np.array(df['y_val'])"
   ]
  },
  {
   "cell_type": "markdown",
   "id": "6a9a9a9b-0e23-4a97-b0c6-4a5bb3b896c3",
   "metadata": {},
   "source": [
    "Looking at the input shape and data shape of images"
   ]
  },
  {
   "cell_type": "code",
   "execution_count": 8,
   "id": "9cec4b87-821b-4df0-ab4b-fcbffc59c463",
   "metadata": {},
   "outputs": [
    {
     "data": {
      "text/plain": [
       "array([[86.9591, 87.0685, 88.3735, ..., 91.8014, 89.7477, 92.5302],\n",
       "       [86.688 , 86.9114, 87.4337, ..., 90.7306, 87.204 , 88.5629],\n",
       "       [85.9654, 85.8145, 85.9239, ..., 63.8626, 59.8199, 54.8805],\n",
       "       ...,\n",
       "       [90.2236, 91.0448, 93.4637, ..., 55.3535, 48.5822, 44.0557],\n",
       "       [90.6427, 90.4039, 90.937 , ..., 78.2696, 77.4977, 74.27  ],\n",
       "       [88.0236, 88.1977, 86.6709, ..., 75.2206, 76.6396, 79.2865]],\n",
       "      dtype=float32)"
      ]
     },
     "execution_count": 8,
     "metadata": {},
     "output_type": "execute_result"
    }
   ],
   "source": [
    "xtrain[1]"
   ]
  },
  {
   "cell_type": "code",
   "execution_count": 9,
   "id": "7cc480db-aea1-4c72-abf7-ea34a24ef4fc",
   "metadata": {},
   "outputs": [
    {
     "data": {
      "text/plain": [
       "(32, 32)"
      ]
     },
     "execution_count": 9,
     "metadata": {},
     "output_type": "execute_result"
    }
   ],
   "source": [
    "xtrain[5].shape"
   ]
  },
  {
   "cell_type": "code",
   "execution_count": 28,
   "id": "a961c1ed-1ecb-445e-816e-8732c5ed72e7",
   "metadata": {},
   "outputs": [
    {
     "data": {
      "text/plain": [
       "(42000, 32, 32)"
      ]
     },
     "execution_count": 28,
     "metadata": {},
     "output_type": "execute_result"
    }
   ],
   "source": [
    "xtrain.shape"
   ]
  },
  {
   "cell_type": "code",
   "execution_count": 29,
   "id": "9335604b-3a29-4cb0-8609-3a03a9b2d343",
   "metadata": {},
   "outputs": [
    {
     "data": {
      "text/plain": [
       "(42000,)"
      ]
     },
     "execution_count": 29,
     "metadata": {},
     "output_type": "execute_result"
    }
   ],
   "source": [
    "ytrain.shape"
   ]
  },
  {
   "cell_type": "code",
   "execution_count": 30,
   "id": "82610aa8-3cd4-4ed1-a2b7-c54ffb64ff4e",
   "metadata": {},
   "outputs": [
    {
     "data": {
      "text/plain": [
       "(18000, 32, 32)"
      ]
     },
     "execution_count": 30,
     "metadata": {},
     "output_type": "execute_result"
    }
   ],
   "source": [
    "xtest.shape"
   ]
  },
  {
   "cell_type": "code",
   "execution_count": 31,
   "id": "5ee8f1e5-f070-40b1-a1ae-b6c167189321",
   "metadata": {},
   "outputs": [
    {
     "data": {
      "text/plain": [
       "(18000,)"
      ]
     },
     "execution_count": 31,
     "metadata": {},
     "output_type": "execute_result"
    }
   ],
   "source": [
    "ytest.shape"
   ]
  },
  {
   "cell_type": "markdown",
   "id": "889a06dd-9a73-4006-93dc-034f50240c84",
   "metadata": {},
   "source": [
    "In order to make calculation and Processing efficient we Normalize the data"
   ]
  },
  {
   "cell_type": "code",
   "execution_count": 33,
   "id": "72f462ec-5a92-4e5a-b48f-39e5bd291327",
   "metadata": {},
   "outputs": [],
   "source": [
    "xtrain=xtrain/255\n",
    "xtest=xtest/255\n",
    "xval=xval/255"
   ]
  },
  {
   "cell_type": "markdown",
   "id": "cdbf8621-6cf1-4965-a8d0-c0eaf596e676",
   "metadata": {},
   "source": [
    "image view "
   ]
  },
  {
   "cell_type": "code",
   "execution_count": 10,
   "id": "dbfd6171-9f5e-4573-96b6-38ac52259aba",
   "metadata": {},
   "outputs": [
    {
     "data": {
      "text/plain": [
       "<matplotlib.image.AxesImage at 0x2c2daca7fd0>"
      ]
     },
     "execution_count": 10,
     "metadata": {},
     "output_type": "execute_result"
    },
    {
     "data": {
      "image/png": "[encoded data removed]",
      "text/plain": [
       "<Figure size 432x288 with 1 Axes>"
      ]
     },
     "metadata": {
      "needs_background": "light"
     },
     "output_type": "display_data"
    }
   ],
   "source": [
    "plt.imshow(xtrain[0])"
   ]
  },
  {
   "cell_type": "markdown",
   "id": "fe95e9bc-76bb-408e-b256-6f663a922217",
   "metadata": {},
   "source": [
    "We see that the images are RGB and has other colors around the edges. So, the plan is to create a 32X32X3 CNN Model with dense layers to recognize the digits with significant accuracy. \n",
    "\n",
    "1. First we create an Inoput Shape 32X32X3\n",
    "2. We creade Hidden Layers\n",
    "3. We look at the Features\n",
    "4. We build the model based on the dataset with Hidden Layer, RELU, Convolution,Polling and Padding\n",
    "5. from this we device the extraction layer\n",
    "6. After creating model we train the model and fit the model.\n",
    "7. Then we test the model for accuracy"
   ]
  },
  {
   "cell_type": "markdown",
   "id": "d887dfad-5587-4da3-8d48-98b8c338b0bd",
   "metadata": {},
   "source": [
    "Creating the model based on dataset and Image structure"
   ]
  },
  {
   "cell_type": "markdown",
   "id": "a7b0869b-ca71-43bc-8494-ddd583685e51",
   "metadata": {},
   "source": [
    "- We are creating a 32 conv2D filter kernel\n",
    "- We are creating a 64 conv 2D filter kernel\n",
    "- We are creating Pooling, padding,Dropout\n",
    "- Flatten\n",
    "- Then Dense 64 layer\n",
    "- Then Final output layer Dense 10 with softmax\n",
    "- WE ave input layer 2 hidden layers and Ouput Layer"
   ]
  },
  {
   "cell_type": "code",
   "execution_count": 15,
   "id": "ce57a651-b232-4fb3-aebd-41664ff0dbd0",
   "metadata": {},
   "outputs": [],
   "source": [
    "model=Sequential()\n",
    "#Input Layer\n",
    "model.add(Conv2D(filters=32,kernel_size=(3,3),activation='relu',input_shape=(32,32,1)))\n",
    "model.add(MaxPooling2D((2,2)))\n",
    "# Hillden Layer 1\n",
    "model.add(Conv2D(filters=64,kernel_size=(3,3),activation='relu'))\n",
    "model.add(MaxPooling2D(2,2))\n",
    "#Hidden Layer 2\n",
    "model.add(Conv2D(filters=64,kernel_size=(3,3),activation='relu'))\n",
    "model.add(MaxPooling2D(2,2))\n",
    "\n",
    "model.add(Flatten())\n",
    "model.add(Dense(64,activation='relu'))\n",
    "model.add(Dense(10,activation='softmax'))"
   ]
  },
  {
   "cell_type": "code",
   "execution_count": 32,
   "id": "eb123939-66c6-46c0-aaaf-1a58b8291bdc",
   "metadata": {},
   "outputs": [
    {
     "name": "stdout",
     "output_type": "stream",
     "text": [
      "Model: \"sequential_2\"\n",
      "_________________________________________________________________\n",
      " Layer (type)                Output Shape              Param #   \n",
      "=================================================================\n",
      " conv2d_2 (Conv2D)           (None, 30, 30, 32)        320       \n",
      "                                                                 \n",
      " max_pooling2d_2 (MaxPooling  (None, 15, 15, 32)       0         \n",
      " 2D)                                                             \n",
      "                                                                 \n",
      " conv2d_3 (Conv2D)           (None, 13, 13, 64)        18496     \n",
      "                                                                 \n",
      " max_pooling2d_3 (MaxPooling  (None, 6, 6, 64)         0         \n",
      " 2D)                                                             \n",
      "                                                                 \n",
      " flatten_1 (Flatten)         (None, 2304)              0         \n",
      "                                                                 \n",
      " dense (Dense)               (None, 64)                147520    \n",
      "                                                                 \n",
      " dense_1 (Dense)             (None, 10)                650       \n",
      "                                                                 \n",
      "=================================================================\n",
      "Total params: 166,986\n",
      "Trainable params: 166,986\n",
      "Non-trainable params: 0\n",
      "_________________________________________________________________\n"
     ]
    }
   ],
   "source": [
    "model.summary()"
   ]
  },
  {
   "cell_type": "code",
   "execution_count": 16,
   "id": "237e45e3-cbcc-43dd-896a-3552f859e829",
   "metadata": {},
   "outputs": [],
   "source": [
    "model.compile(optimizer='adam',loss='sparse_categorical_crossentropy',metrics=['accuracy'])"
   ]
  },
  {
   "cell_type": "code",
   "execution_count": 18,
   "id": "9ec821e8-5fda-44e9-9a40-80a2c313be9f",
   "metadata": {},
   "outputs": [
    {
     "name": "stdout",
     "output_type": "stream",
     "text": [
      "Epoch 1/15\n",
      "1313/1313 [==============================] - 15s 11ms/step - loss: 2.4362 - accuracy: 0.0988\n",
      "Epoch 2/15\n",
      "1313/1313 [==============================] - 14s 11ms/step - loss: 2.3028 - accuracy: 0.0980\n",
      "Epoch 3/15\n",
      "1313/1313 [==============================] - 14s 11ms/step - loss: 2.3028 - accuracy: 0.0987\n",
      "Epoch 4/15\n",
      "1313/1313 [==============================] - 14s 11ms/step - loss: 2.3027 - accuracy: 0.1002\n",
      "Epoch 5/15\n",
      "1313/1313 [==============================] - 14s 11ms/step - loss: 2.3028 - accuracy: 0.1002\n",
      "Epoch 6/15\n",
      "1313/1313 [==============================] - 14s 11ms/step - loss: 2.3028 - accuracy: 0.1003\n",
      "Epoch 7/15\n",
      "1313/1313 [==============================] - 14s 11ms/step - loss: 2.3027 - accuracy: 0.0991\n",
      "Epoch 8/15\n",
      "1313/1313 [==============================] - 14s 11ms/step - loss: 2.3028 - accuracy: 0.1024\n",
      "Epoch 9/15\n",
      "1313/1313 [==============================] - 14s 11ms/step - loss: 2.3028 - accuracy: 0.1003\n",
      "Epoch 10/15\n",
      "1313/1313 [==============================] - 14s 11ms/step - loss: 2.3028 - accuracy: 0.1018\n",
      "Epoch 11/15\n",
      "1313/1313 [==============================] - 14s 11ms/step - loss: 2.3028 - accuracy: 0.0984\n",
      "Epoch 12/15\n",
      "1313/1313 [==============================] - 14s 11ms/step - loss: 2.3027 - accuracy: 0.0977\n",
      "Epoch 13/15\n",
      "1313/1313 [==============================] - 14s 11ms/step - loss: 2.3028 - accuracy: 0.1000\n",
      "Epoch 14/15\n",
      "1313/1313 [==============================] - 15s 11ms/step - loss: 2.3028 - accuracy: 0.0989\n",
      "Epoch 15/15\n",
      "1313/1313 [==============================] - 15s 11ms/step - loss: 2.3028 - accuracy: 0.0998\n"
     ]
    },
    {
     "data": {
      "text/plain": [
       "<keras.callbacks.History at 0x2c2e47ba8e0>"
      ]
     },
     "execution_count": 18,
     "metadata": {},
     "output_type": "execute_result"
    }
   ],
   "source": [
    "model.fit(xtrain,ytrain,epochs=15)"
   ]
  },
  {
   "cell_type": "code",
   "execution_count": 19,
   "id": "2224ecdf-10e8-4880-89bb-e246348987f0",
   "metadata": {},
   "outputs": [
    {
     "name": "stdout",
     "output_type": "stream",
     "text": [
      "1875/1875 [==============================] - 7s 4ms/step - loss: 2.3027 - accuracy: 0.1000\n"
     ]
    },
    {
     "data": {
      "text/plain": [
       "[2.3026654720306396, 0.10000000149011612]"
      ]
     },
     "execution_count": 19,
     "metadata": {},
     "output_type": "execute_result"
    }
   ],
   "source": [
    "model.evaluate(xval,yval)"
   ]
  },
  {
   "cell_type": "code",
   "execution_count": 20,
   "id": "652c9a13-e0df-453a-b15b-114525abcbf2",
   "metadata": {},
   "outputs": [
    {
     "name": "stdout",
     "output_type": "stream",
     "text": [
      "563/563 [==============================] - 2s 3ms/step - loss: 2.3028 - accuracy: 0.0982\n"
     ]
    },
    {
     "data": {
      "text/plain": [
       "[2.3027608394622803, 0.09822222590446472]"
      ]
     },
     "execution_count": 20,
     "metadata": {},
     "output_type": "execute_result"
    }
   ],
   "source": [
    "model.evaluate(xtest,ytest)"
   ]
  },
  {
   "cell_type": "markdown",
   "id": "012be41a-7508-4d55-bb2f-a4a53df715df",
   "metadata": {},
   "source": [
    "MinMax Scaler"
   ]
  },
  {
   "cell_type": "code",
   "execution_count": 22,
   "id": "c4b22393-7fb5-4fc8-a48a-35b127c25551",
   "metadata": {},
   "outputs": [],
   "source": [
    "scaler=MinMaxScaler()\n",
    "\n",
    "x1train=scaler.fit_transform(xtrain.reshape(-1,xtrain.shape[-1])).reshape(xtrain.shape)\n",
    "x1test=scaler.transform(xtest.reshape(-1,xtest.shape[-1])).reshape(xtest.shape)\n",
    "x1val=scaler.transform(xval.reshape(-1,xval.shape[-1])).reshape(xval.shape)"
   ]
  },
  {
   "cell_type": "markdown",
   "id": "eb8cf675-06f0-4fb2-b589-54cbc3e9cd74",
   "metadata": {},
   "source": [
    "Model for the scled data"
   ]
  },
  {
   "cell_type": "code",
   "execution_count": 23,
   "id": "62c23184-dbe1-45ea-b13d-364a7ccf6803",
   "metadata": {},
   "outputs": [],
   "source": [
    "model1=Sequential()\n",
    "model1.add(Conv2D(filters=32,kernel_size=(3,3),activation='relu',input_shape=(32,32,1)))\n",
    "model1.add(MaxPooling2D(2,2))\n",
    "model1.add(Conv2D(filters=64,kernel_size=(3,3),activation='relu'))\n",
    "model1.add(MaxPooling2D((2, 2)))\n",
    "model1.add(Flatten())\n",
    "model1.add(Dense(64, activation='relu'))\n",
    "model1.add(Dense(10, activation='softmax'))"
   ]
  },
  {
   "cell_type": "code",
   "execution_count": 24,
   "id": "160950f9-2a55-4586-9916-32cab06feaa4",
   "metadata": {},
   "outputs": [],
   "source": [
    "model1.compile(optimizer='adam',loss='sparse_categorical_crossentropy',metrics=['accuracy'])"
   ]
  },
  {
   "cell_type": "code",
   "execution_count": 25,
   "id": "d5861d58-525e-4932-b0b9-9a1a6abcc00d",
   "metadata": {},
   "outputs": [
    {
     "name": "stdout",
     "output_type": "stream",
     "text": [
      "Epoch 1/10\n",
      "1313/1313 [==============================] - 15s 11ms/step - loss: 1.0547 - accuracy: 0.6673\n",
      "Epoch 2/10\n",
      "1313/1313 [==============================] - 14s 11ms/step - loss: 0.5515 - accuracy: 0.8485\n",
      "Epoch 3/10\n",
      "1313/1313 [==============================] - 14s 11ms/step - loss: 0.4820 - accuracy: 0.8675\n",
      "Epoch 4/10\n",
      "1313/1313 [==============================] - 14s 11ms/step - loss: 0.4323 - accuracy: 0.8797\n",
      "Epoch 5/10\n",
      "1313/1313 [==============================] - 15s 11ms/step - loss: 0.3944 - accuracy: 0.8916\n",
      "Epoch 6/10\n",
      "1313/1313 [==============================] - 14s 11ms/step - loss: 0.3636 - accuracy: 0.8976\n",
      "Epoch 7/10\n",
      "1313/1313 [==============================] - 14s 11ms/step - loss: 0.3355 - accuracy: 0.9033\n",
      "Epoch 8/10\n",
      "1313/1313 [==============================] - 15s 11ms/step - loss: 0.3118 - accuracy: 0.9098\n",
      "Epoch 9/10\n",
      "1313/1313 [==============================] - 15s 11ms/step - loss: 0.2910 - accuracy: 0.9168\n",
      "Epoch 10/10\n",
      "1313/1313 [==============================] - 15s 11ms/step - loss: 0.2691 - accuracy: 0.9212\n"
     ]
    },
    {
     "data": {
      "text/plain": [
       "<keras.callbacks.History at 0x2c2ac1f8fa0>"
      ]
     },
     "execution_count": 25,
     "metadata": {},
     "output_type": "execute_result"
    }
   ],
   "source": [
    "model1.fit(x1train,ytrain,epochs=10)"
   ]
  },
  {
   "cell_type": "code",
   "execution_count": 27,
   "id": "57284dee-49f9-40c6-b8ae-7975c46f3c8f",
   "metadata": {},
   "outputs": [
    {
     "name": "stdout",
     "output_type": "stream",
     "text": [
      "1875/1875 [==============================] - 6s 3ms/step - loss: 0.2919 - accuracy: 0.9184\n"
     ]
    },
    {
     "data": {
      "text/plain": [
       "[0.29186204075813293, 0.9184333086013794]"
      ]
     },
     "execution_count": 27,
     "metadata": {},
     "output_type": "execute_result"
    }
   ],
   "source": [
    "model1.evaluate(x1val,yval)"
   ]
  },
  {
   "cell_type": "code",
   "execution_count": null,
   "id": "7006edb6-11c5-4343-b049-0e1544320506",
   "metadata": {},
   "outputs": [],
   "source": [
    "model1"
   ]
  },
  {
   "cell_type": "code",
   "execution_count": null,
   "id": "a1743559-61f2-4c44-ba36-800758c664bd",
   "metadata": {},
   "outputs": [],
   "source": []
  },
  {
   "cell_type": "code",
   "execution_count": null,
   "id": "99c5c7fa-e89b-4225-820f-4aba5805636c",
   "metadata": {},
   "outputs": [],
   "source": []
  },
  {
   "cell_type": "code",
   "execution_count": null,
   "id": "089c5e86-8192-4169-b3f4-651f6d54d918",
   "metadata": {},
   "outputs": [],
   "source": []
  },
  {
   "cell_type": "code",
   "execution_count": null,
   "id": "daad3927-2f9e-4228-b068-cdd049b2d0e4",
   "metadata": {},
   "outputs": [],
   "source": []
  },
  {
   "cell_type": "code",
   "execution_count": null,
   "id": "c3c3a153-68c7-405f-9cd7-37d3c6038bc7",
   "metadata": {},
   "outputs": [],
   "source": []
  },
  {
   "cell_type": "code",
   "execution_count": null,
   "id": "0b40f691-5a8a-4e1c-b103-02292a86199a",
   "metadata": {},
   "outputs": [],
   "source": []
  },
  {
   "cell_type": "code",
   "execution_count": null,
   "id": "1fee0a63-087d-48de-9fe3-7e233f09299a",
   "metadata": {},
   "outputs": [],
   "source": []
  },
  {
   "cell_type": "code",
   "execution_count": 44,
   "id": "ffbe05f6-0b41-43e2-81d9-c1825930d763",
   "metadata": {},
   "outputs": [
    {
     "ename": "ValueError",
     "evalue": "Not a location (invalid object ID)",
     "output_type": "error",
     "traceback": [
      "\u001b[1;31m---------------------------------------------------------------------------\u001b[0m",
      "\u001b[1;31mValueError\u001b[0m                                Traceback (most recent call last)",
      "Input \u001b[1;32mIn [44]\u001b[0m, in \u001b[0;36m<cell line: 5>\u001b[1;34m()\u001b[0m\n\u001b[0;32m      1\u001b[0m \u001b[38;5;66;03m# data=f.get('X_test')\u001b[39;00m\n\u001b[0;32m      2\u001b[0m \u001b[38;5;66;03m# dataset1=np.array(data)\u001b[39;00m\n\u001b[0;32m      3\u001b[0m \u001b[38;5;66;03m# print('Shape of dataset1: \\n',dataset1.shape)\u001b[39;00m\n\u001b[1;32m----> 5\u001b[0m n\u001b[38;5;241m=\u001b[39m\u001b[43mf\u001b[49m\u001b[38;5;241;43m.\u001b[39;49m\u001b[43mget\u001b[49m\u001b[43m(\u001b[49m\u001b[38;5;124;43m'\u001b[39;49m\u001b[38;5;124;43mX_test\u001b[39;49m\u001b[38;5;124;43m'\u001b[39;49m\u001b[43m)\u001b[49m\n\u001b[0;32m      6\u001b[0m n1\u001b[38;5;241m=\u001b[39mnp\u001b[38;5;241m.\u001b[39marray(n)\n",
      "File \u001b[1;32m~\\anaconda3\\lib\\site-packages\\h5py\\_hl\\group.py:348\u001b[0m, in \u001b[0;36mGroup.get\u001b[1;34m(self, name, default, getclass, getlink)\u001b[0m\n\u001b[0;32m    346\u001b[0m \u001b[38;5;28;01mif\u001b[39;00m \u001b[38;5;129;01mnot\u001b[39;00m (getclass \u001b[38;5;129;01mor\u001b[39;00m getlink):\n\u001b[0;32m    347\u001b[0m     \u001b[38;5;28;01mtry\u001b[39;00m:\n\u001b[1;32m--> 348\u001b[0m         \u001b[38;5;28;01mreturn\u001b[39;00m \u001b[38;5;28;43mself\u001b[39;49m\u001b[43m[\u001b[49m\u001b[43mname\u001b[49m\u001b[43m]\u001b[49m\n\u001b[0;32m    349\u001b[0m     \u001b[38;5;28;01mexcept\u001b[39;00m \u001b[38;5;167;01mKeyError\u001b[39;00m:\n\u001b[0;32m    350\u001b[0m         \u001b[38;5;28;01mreturn\u001b[39;00m default\n",
      "File \u001b[1;32mh5py\\_objects.pyx:54\u001b[0m, in \u001b[0;36mh5py._objects.with_phil.wrapper\u001b[1;34m()\u001b[0m\n",
      "File \u001b[1;32mh5py\\_objects.pyx:55\u001b[0m, in \u001b[0;36mh5py._objects.with_phil.wrapper\u001b[1;34m()\u001b[0m\n",
      "File \u001b[1;32m~\\anaconda3\\lib\\site-packages\\h5py\\_hl\\group.py:305\u001b[0m, in \u001b[0;36mGroup.__getitem__\u001b[1;34m(self, name)\u001b[0m\n\u001b[0;32m    303\u001b[0m         \u001b[38;5;28;01mraise\u001b[39;00m \u001b[38;5;167;01mValueError\u001b[39;00m(\u001b[38;5;124m\"\u001b[39m\u001b[38;5;124mInvalid HDF5 object reference\u001b[39m\u001b[38;5;124m\"\u001b[39m)\n\u001b[0;32m    304\u001b[0m \u001b[38;5;28;01melif\u001b[39;00m \u001b[38;5;28misinstance\u001b[39m(name, (\u001b[38;5;28mbytes\u001b[39m, \u001b[38;5;28mstr\u001b[39m)):\n\u001b[1;32m--> 305\u001b[0m     oid \u001b[38;5;241m=\u001b[39m \u001b[43mh5o\u001b[49m\u001b[38;5;241;43m.\u001b[39;49m\u001b[43mopen\u001b[49m\u001b[43m(\u001b[49m\u001b[38;5;28;43mself\u001b[39;49m\u001b[38;5;241;43m.\u001b[39;49m\u001b[43mid\u001b[49m\u001b[43m,\u001b[49m\u001b[43m \u001b[49m\u001b[38;5;28;43mself\u001b[39;49m\u001b[38;5;241;43m.\u001b[39;49m\u001b[43m_e\u001b[49m\u001b[43m(\u001b[49m\u001b[43mname\u001b[49m\u001b[43m)\u001b[49m\u001b[43m,\u001b[49m\u001b[43m \u001b[49m\u001b[43mlapl\u001b[49m\u001b[38;5;241;43m=\u001b[39;49m\u001b[38;5;28;43mself\u001b[39;49m\u001b[38;5;241;43m.\u001b[39;49m\u001b[43m_lapl\u001b[49m\u001b[43m)\u001b[49m\n\u001b[0;32m    306\u001b[0m \u001b[38;5;28;01melse\u001b[39;00m:\n\u001b[0;32m    307\u001b[0m     \u001b[38;5;28;01mraise\u001b[39;00m \u001b[38;5;167;01mTypeError\u001b[39;00m(\u001b[38;5;124m\"\u001b[39m\u001b[38;5;124mAccessing a group is done with bytes or str, \u001b[39m\u001b[38;5;124m\"\u001b[39m\n\u001b[0;32m    308\u001b[0m                     \u001b[38;5;124m\"\u001b[39m\u001b[38;5;124m not \u001b[39m\u001b[38;5;132;01m{}\u001b[39;00m\u001b[38;5;124m\"\u001b[39m\u001b[38;5;241m.\u001b[39mformat(\u001b[38;5;28mtype\u001b[39m(name)))\n",
      "File \u001b[1;32mh5py\\_objects.pyx:54\u001b[0m, in \u001b[0;36mh5py._objects.with_phil.wrapper\u001b[1;34m()\u001b[0m\n",
      "File \u001b[1;32mh5py\\_objects.pyx:55\u001b[0m, in \u001b[0;36mh5py._objects.with_phil.wrapper\u001b[1;34m()\u001b[0m\n",
      "File \u001b[1;32mh5py\\h5o.pyx:190\u001b[0m, in \u001b[0;36mh5py.h5o.open\u001b[1;34m()\u001b[0m\n",
      "\u001b[1;31mValueError\u001b[0m: Not a location (invalid object ID)"
     ]
    }
   ],
   "source": [
    "    # data=f.get('X_test')\n",
    "    # dataset1=np.array(data)\n",
    "    # print('Shape of dataset1: \\n',dataset1.shape)\n",
    "    \n",
    "    n=f.get('X_test')\n",
    "    n1=np.array(n)"
   ]
  },
  {
   "cell_type": "code",
   "execution_count": null,
   "id": "d79502b9-f5b0-44ba-a694-7439acb41234",
   "metadata": {},
   "outputs": [],
   "source": []
  },
  {
   "cell_type": "code",
   "execution_count": null,
   "id": "225cd59c-4f4d-4483-872d-65af6611b2c0",
   "metadata": {},
   "outputs": [],
   "source": []
  },
  {
   "cell_type": "code",
   "execution_count": null,
   "id": "f9c63416-fb82-4837-ab1b-ab87a79d398a",
   "metadata": {},
   "outputs": [],
   "source": []
  },
  {
   "cell_type": "code",
   "execution_count": null,
   "id": "7b826862-aa70-43a8-94a5-0fbcedf7b998",
   "metadata": {},
   "outputs": [],
   "source": []
  },
  {
   "cell_type": "code",
   "execution_count": null,
   "id": "34ffca1d-d908-4885-a9c1-f427a2e79117",
   "metadata": {},
   "outputs": [],
   "source": []
  },
  {
   "cell_type": "code",
   "execution_count": null,
   "id": "da4fe163-73f1-423c-92c4-a17e8916f8c4",
   "metadata": {},
   "outputs": [],
   "source": []
  },
  {
   "cell_type": "code",
   "execution_count": null,
   "id": "10a3a542-c521-4ee6-acf3-56e7196bd994",
   "metadata": {},
   "outputs": [],
   "source": []
  },
  {
   "cell_type": "code",
   "execution_count": null,
   "id": "275cab8d-38eb-4215-90d6-ff6462953446",
   "metadata": {},
   "outputs": [],
   "source": []
  },
  {
   "cell_type": "code",
   "execution_count": null,
   "id": "e3401724-218a-4aa5-a66d-08f5a7af8ca4",
   "metadata": {},
   "outputs": [],
   "source": []
  },
  {
   "cell_type": "code",
   "execution_count": 54,
   "id": "f90d6c92-d51e-473f-b999-77107e3eb2d3",
   "metadata": {},
   "outputs": [
    {
     "ename": "TypeError",
     "evalue": "Not a location id (invalid object ID)",
     "output_type": "error",
     "traceback": [
      "\u001b[1;31m---------------------------------------------------------------------------\u001b[0m",
      "\u001b[1;31mTypeError\u001b[0m                                 Traceback (most recent call last)",
      "Input \u001b[1;32mIn [54]\u001b[0m, in \u001b[0;36m<cell line: 1>\u001b[1;34m()\u001b[0m\n\u001b[1;32m----> 1\u001b[0m \u001b[38;5;28;43mlist\u001b[39;49m\u001b[43m(\u001b[49m\u001b[43mf\u001b[49m\u001b[38;5;241;43m.\u001b[39;49m\u001b[43mkeys\u001b[49m\u001b[43m(\u001b[49m\u001b[43m)\u001b[49m\u001b[43m)\u001b[49m\n\u001b[0;32m      2\u001b[0m x1\u001b[38;5;241m=\u001b[39mf[\u001b[38;5;124m'\u001b[39m\u001b[38;5;124mx\u001b[39m\u001b[38;5;124m'\u001b[39m]\n\u001b[0;32m      3\u001b[0m y1\u001b[38;5;241m=\u001b[39mf[\u001b[38;5;124m'\u001b[39m\u001b[38;5;124my\u001b[39m\u001b[38;5;124m'\u001b[39m]\n",
      "File \u001b[1;32m~\\anaconda3\\lib\\_collections_abc.py:826\u001b[0m, in \u001b[0;36mKeysView.__iter__\u001b[1;34m(self)\u001b[0m\n\u001b[0;32m    825\u001b[0m \u001b[38;5;28;01mdef\u001b[39;00m \u001b[38;5;21m__iter__\u001b[39m(\u001b[38;5;28mself\u001b[39m):\n\u001b[1;32m--> 826\u001b[0m     \u001b[38;5;28;01myield from\u001b[39;00m \u001b[38;5;28mself\u001b[39m\u001b[38;5;241m.\u001b[39m_mapping\n",
      "File \u001b[1;32m~\\anaconda3\\lib\\site-packages\\h5py\\_hl\\group.py:448\u001b[0m, in \u001b[0;36mGroup.__iter__\u001b[1;34m(self)\u001b[0m\n\u001b[0;32m    445\u001b[0m \u001b[38;5;129m@with_phil\u001b[39m\n\u001b[0;32m    446\u001b[0m \u001b[38;5;28;01mdef\u001b[39;00m \u001b[38;5;21m__iter__\u001b[39m(\u001b[38;5;28mself\u001b[39m):\n\u001b[0;32m    447\u001b[0m     \u001b[38;5;124;03m\"\"\" Iterate over member names \"\"\"\u001b[39;00m\n\u001b[1;32m--> 448\u001b[0m     \u001b[38;5;28;01mfor\u001b[39;00m x \u001b[38;5;129;01min\u001b[39;00m \u001b[38;5;28;43mself\u001b[39;49m\u001b[38;5;241;43m.\u001b[39;49m\u001b[43mid\u001b[49m\u001b[38;5;241;43m.\u001b[39;49m\u001b[38;5;21;43m__iter__\u001b[39;49m\u001b[43m(\u001b[49m\u001b[43m)\u001b[49m:\n\u001b[0;32m    449\u001b[0m         \u001b[38;5;28;01myield\u001b[39;00m \u001b[38;5;28mself\u001b[39m\u001b[38;5;241m.\u001b[39m_d(x)\n",
      "File \u001b[1;32mh5py\\h5g.pyx:477\u001b[0m, in \u001b[0;36mh5py.h5g.GroupID.__iter__\u001b[1;34m()\u001b[0m\n",
      "File \u001b[1;32mh5py\\h5g.pyx:478\u001b[0m, in \u001b[0;36mh5py.h5g.GroupID.__iter__\u001b[1;34m()\u001b[0m\n",
      "File \u001b[1;32mh5py\\h5g.pyx:102\u001b[0m, in \u001b[0;36mh5py.h5g.GroupIter.__init__\u001b[1;34m()\u001b[0m\n",
      "File \u001b[1;32mh5py\\_objects.pyx:54\u001b[0m, in \u001b[0;36mh5py._objects.with_phil.wrapper\u001b[1;34m()\u001b[0m\n",
      "File \u001b[1;32mh5py\\_objects.pyx:55\u001b[0m, in \u001b[0;36mh5py._objects.with_phil.wrapper\u001b[1;34m()\u001b[0m\n",
      "File \u001b[1;32mh5py\\h5g.pyx:336\u001b[0m, in \u001b[0;36mh5py.h5g.GroupID.get_num_objs\u001b[1;34m()\u001b[0m\n",
      "\u001b[1;31mTypeError\u001b[0m: Not a location id (invalid object ID)"
     ]
    }
   ],
   "source": [
    "list(f.keys())\n",
    "x1=f['x']\n",
    "y1=f['y']\n",
    "\n",
    "df1=np.array(X1.value)\n",
    "print(df1.shape)"
   ]
  },
  {
   "cell_type": "code",
   "execution_count": null,
   "id": "36fcbf1b-90b8-4609-95dc-cce8ef349e7b",
   "metadata": {},
   "outputs": [],
   "source": []
  },
  {
   "cell_type": "code",
   "execution_count": null,
   "id": "71ddc0aa-a5b1-4552-ab5d-65761fad02fe",
   "metadata": {},
   "outputs": [],
   "source": []
  },
  {
   "cell_type": "code",
   "execution_count": null,
   "id": "e7ba7ef5-b30f-4ce0-88f8-76626b9ab638",
   "metadata": {},
   "outputs": [],
   "source": []
  },
  {
   "cell_type": "code",
   "execution_count": null,
   "id": "a2ae9d54-6302-4198-b463-dc6937a83a0b",
   "metadata": {},
   "outputs": [],
   "source": []
  }
 ],
 "metadata": {
  "kernelspec": {
   "display_name": "Python 3 (ipykernel)",
   "language": "python",
   "name": "python3"
  },
  "language_info": {
   "codemirror_mode": {
    "name": "ipython",
    "version": 3
   },
   "file_extension": ".py",
   "mimetype": "text/x-python",
   "name": "python",
   "nbconvert_exporter": "python",
   "pygments_lexer": "ipython3",
   "version": "3.9.12"
  }
 },
 "nbformat": 4,
 "nbformat_minor": 5
}
