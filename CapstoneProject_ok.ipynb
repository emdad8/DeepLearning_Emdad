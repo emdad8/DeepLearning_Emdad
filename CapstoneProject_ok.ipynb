{
 "cells": [
  {
   "cell_type": "markdown",
   "id": "1a8e328e-0960-4b45-b480-7d645158fd7a",
   "metadata": {},
   "source": [
    "Capstone Project\n",
    "\n",
    "Emdadul Haque\n",
    "Batch 9\n",
    "\n",
    "Problem Case: CNN Model capable of recognizing digits in Photo"
   ]
  },
  {
   "cell_type": "code",
   "execution_count": 59,
   "id": "43c88a0e-3ffb-446f-b5cd-04ac7364aa58",
   "metadata": {},
   "outputs": [],
   "source": [
    "import h5py\n",
    "import numpy as np\n",
    "import pandas as pd\n",
    "import h5py\n",
    "import matplotlib.pyplot as plt\n",
    "%matplotlib inline\n",
    "\n",
    "from tensorflow.keras.layers import Conv2D,Convolution2D\n",
    "from tensorflow.keras.layers import MaxPooling2D\n",
    "from tensorflow.keras.layers import Flatten\n",
    "from tensorflow.keras.layers import Dropout \n",
    "from tensorflow.keras.layers import Dense\n",
    "from tensorflow.keras.layers import BatchNormalization\n",
    "from tensorflow.keras.optimizers import Adam,SGD\n",
    "from tensorflow.keras.models import Sequential\n",
    "from sklearn.preprocessing import MinMaxScaler\n",
    "import warnings\n",
    "warnings.filterwarnings(\"ignore\")"
   ]
  },
  {
   "cell_type": "code",
   "execution_count": 2,
   "id": "f236c205-a46e-42b8-a324-aa31318480af",
   "metadata": {},
   "outputs": [
    {
     "name": "stdout",
     "output_type": "stream",
     "text": [
      "datasets : \n",
      " ['X_test', 'X_train', 'X_val', 'y_test', 'y_train', 'y_val']\n"
     ]
    }
   ],
   "source": [
    "file=h5py.File('SVHN_single_grey1.h5','r')\n",
    "\n",
    "ls=list(file.keys())\n",
    "print('datasets : \\n',ls)"
   ]
  },
  {
   "cell_type": "code",
   "execution_count": 3,
   "id": "ddbe319d-2b9d-4182-abf9-f149cf221a0c",
   "metadata": {},
   "outputs": [],
   "source": [
    "x1test=list(file.keys())[0]\n",
    "x1train=list(file.keys())[1]\n",
    "x1val=list(file.keys())[2]\n",
    "y1test=list(file.keys())[3]\n",
    "y1train=list(file.keys())[4]\n",
    "y1val=list(file.keys())[5]"
   ]
  },
  {
   "cell_type": "code",
   "execution_count": 5,
   "id": "2818b9cb-f364-406d-8d5a-00abdbf1b9a7",
   "metadata": {},
   "outputs": [],
   "source": [
    "# print(type(file[data]))"
   ]
  },
  {
   "cell_type": "code",
   "execution_count": 6,
   "id": "42aa6a0d-333c-480e-84d4-e22751e81307",
   "metadata": {},
   "outputs": [],
   "source": [
    "x1test_array=file[x1test][()]\n",
    "x1train_array=file[x1train][()]\n",
    "x1val_array=file[x1val][()]\n",
    "y1test_array=file[y1test][()]\n",
    "y1train_array=file[y1train][()]\n",
    "y1val_array=file[y1val][()]\n",
    "\n",
    "# print(x1test_array)"
   ]
  },
  {
   "cell_type": "code",
   "execution_count": 7,
   "id": "ed3a91d7-af2d-494f-85ef-976239694fef",
   "metadata": {},
   "outputs": [
    {
     "name": "stdout",
     "output_type": "stream",
     "text": [
      "(18000, 32, 32)\n"
     ]
    }
   ],
   "source": [
    "# print(ds_array.shape)\n",
    "print(x1test_array.shape)"
   ]
  },
  {
   "cell_type": "code",
   "execution_count": 8,
   "id": "b84ce92e-9ed8-4778-bfc4-acbd4e584510",
   "metadata": {},
   "outputs": [
    {
     "name": "stdout",
     "output_type": "stream",
     "text": [
      "(42000, 32, 32)\n"
     ]
    }
   ],
   "source": [
    "print(x1train_array.shape)"
   ]
  },
  {
   "cell_type": "code",
   "execution_count": 9,
   "id": "1cfd014e-6acf-4a60-9feb-473f65763115",
   "metadata": {},
   "outputs": [
    {
     "name": "stdout",
     "output_type": "stream",
     "text": [
      "(60000, 32, 32)\n"
     ]
    }
   ],
   "source": [
    "print(x1val_array.shape)"
   ]
  },
  {
   "cell_type": "code",
   "execution_count": 10,
   "id": "ee016306-8fc5-4b95-9c83-3c3ec5a34185",
   "metadata": {},
   "outputs": [
    {
     "name": "stdout",
     "output_type": "stream",
     "text": [
      "(18000,)\n"
     ]
    }
   ],
   "source": [
    "print(y1test_array.shape)"
   ]
  },
  {
   "cell_type": "code",
   "execution_count": 11,
   "id": "60a24fb4-f172-4691-8dad-03e6c03113f2",
   "metadata": {},
   "outputs": [
    {
     "name": "stdout",
     "output_type": "stream",
     "text": [
      "(42000,)\n"
     ]
    }
   ],
   "source": [
    "print(y1train_array.shape)"
   ]
  },
  {
   "cell_type": "code",
   "execution_count": 12,
   "id": "57d93ae1-4689-4c98-b5ef-c51c46d1b387",
   "metadata": {},
   "outputs": [
    {
     "name": "stdout",
     "output_type": "stream",
     "text": [
      "(60000,)\n"
     ]
    }
   ],
   "source": [
    "print(y1val_array.shape)"
   ]
  },
  {
   "cell_type": "code",
   "execution_count": 123,
   "id": "95ad951c-bb8b-4290-b3c4-4d2488466612",
   "metadata": {},
   "outputs": [],
   "source": [
    "# x11=x1test_array\n",
    "# x11_r=np.array(x11)\n",
    "# x11_r"
   ]
  },
  {
   "cell_type": "code",
   "execution_count": 13,
   "id": "3bb1f487-0871-4131-bade-65691247fb16",
   "metadata": {},
   "outputs": [
    {
     "name": "stdout",
     "output_type": "stream",
     "text": [
      "[[[ 33.0704  30.2601  26.852  ...  71.4471  58.2204  42.9939]\n",
      "  [ 25.2283  25.5533  29.9765 ... 113.0209 103.3639  84.2949]\n",
      "  [ 26.2775  22.6137  40.4763 ... 113.3028 121.775  115.4228]\n",
      "  ...\n",
      "  [ 28.5502  36.212   45.0801 ...  24.1359  25.0927  26.0603]\n",
      "  [ 38.4352  26.4733  23.2717 ...  28.1094  29.4683  30.0661]\n",
      "  [ 50.2984  26.0773  24.0389 ...  49.6682  50.853   53.0377]]\n",
      "\n",
      " [[ 86.9591  87.0685  88.3735 ...  91.8014  89.7477  92.5302]\n",
      "  [ 86.688   86.9114  87.4337 ...  90.7306  87.204   88.5629]\n",
      "  [ 85.9654  85.8145  85.9239 ...  63.8626  59.8199  54.8805]\n",
      "  ...\n",
      "  [ 90.2236  91.0448  93.4637 ...  55.3535  48.5822  44.0557]\n",
      "  [ 90.6427  90.4039  90.937  ...  78.2696  77.4977  74.27  ]\n",
      "  [ 88.0236  88.1977  86.6709 ...  75.2206  76.6396  79.2865]]\n",
      "\n",
      " [[123.125  125.8581 122.0757 ... 123.5747 124.1186 123.3144]\n",
      "  [121.1683 124.1294 117.4613 ... 115.6078 119.5751 122.8306]\n",
      "  [124.6132 121.1019 109.6623 ... 111.1783 119.7923 124.7595]\n",
      "  ...\n",
      "  [135.1391 127.3679 117.754  ...  95.0919 105.5917 114.9283]\n",
      "  [134.8402 131.9545 124.0415 ...  93.864  105.3036 115.1132]\n",
      "  [134.8402 132.0685 128.34   ...  93.9349 104.7875 113.8252]]\n",
      "\n",
      " ...\n",
      "\n",
      " [[154.094  155.8057 156.8164 ... 138.9322 136.1605 133.0468]\n",
      "  [145.725  147.4367 150.0343 ... 145.4477 140.9751 136.9647]\n",
      "  [144.9531 144.8391 143.85   ... 143.263  143.263  146.4799]\n",
      "  ...\n",
      "  [150.2237 150.8107 150.1097 ...  96.8207  96.9239  97.2228]\n",
      "  [151.6365 152.2235 151.1096 ... 120.8892 121.8891 123.1771]\n",
      "  [146.5769 147.9358 147.9358 ... 135.1328 136.6596 137.6595]]\n",
      "\n",
      " [[207.4954 208.4953 213.0218 ... 210.1361 208.4244 203.4357]\n",
      "  [204.4957 207.6094 213.6088 ... 209.4243 207.8374 202.5498]\n",
      "  [204.3216 208.3212 212.9078 ... 209.0222 207.1364 201.4359]\n",
      "  ...\n",
      "  [199.1372 202.083  207.4523 ... 212.8477 211.8478 209.5491]\n",
      "  [201.137  201.61   205.2676 ... 213.9616 213.5487 209.1362]\n",
      "  [202.9088 202.9088 206.9084 ... 214.1357 212.1359 209.1362]]\n",
      "\n",
      " [[ 95.0784  96.0783 100.0779 ... 122.7551 122.8691 122.8691]\n",
      "  [ 95.0784  96.0783 100.0779 ... 122.8691 122.9831 122.9831]\n",
      "  [ 95.0784  96.0783 101.0778 ... 126.5698 126.9827 126.9827]\n",
      "  ...\n",
      "  [ 98.833   99.8329 103.8325 ... 129.8962 131.896  131.896 ]\n",
      "  [ 98.833   99.8329 103.8325 ... 136.0805 138.1943 138.1943]\n",
      "  [ 98.833   99.8329 103.8325 ... 138.0803 140.493  140.493 ]]]\n"
     ]
    }
   ],
   "source": [
    "# xr1_trainarray=x1train_array\n",
    "# xr1_trainarray=np.reshape( xr1_trainarray,( xr1_trainarray.shape[0]))/255.0\n",
    "    \n",
    "xr1_trainarray=x1train_array\n",
    "print(xr1_trainarray)"
   ]
  },
  {
   "cell_type": "code",
   "execution_count": 142,
   "id": "9aade610-fbcb-4c81-83f5-f440e31384bb",
   "metadata": {},
   "outputs": [],
   "source": [
    "from sklearn.preprocessing import MinMaxScaler"
   ]
  },
  {
   "cell_type": "code",
   "execution_count": 143,
   "id": "2502721e-ea6e-4ab4-9fe3-479de728c431",
   "metadata": {},
   "outputs": [],
   "source": [
    "scaler=MinMaxScaler()"
   ]
  },
  {
   "cell_type": "code",
   "execution_count": 55,
   "id": "5f4b7671-864b-46a6-8e59-1b0737e82e60",
   "metadata": {},
   "outputs": [],
   "source": [
    "# scaler.fit_transform(xr1_trainarray)"
   ]
  },
  {
   "cell_type": "markdown",
   "id": "97deb3dd-3d4c-423a-9a31-2c1ef82cdb38",
   "metadata": {},
   "source": [
    "do obfuscate"
   ]
  },
  {
   "cell_type": "code",
   "execution_count": 10,
   "id": "29b13c5a-5b6a-400e-83c5-53047ea5b85c",
   "metadata": {},
   "outputs": [
    {
     "name": "stdout",
     "output_type": "stream",
     "text": [
      "datasets: \n",
      " ['X_test', 'X_train', 'X_val', 'y_test', 'y_train', 'y_val']\n"
     ]
    }
   ],
   "source": [
    "file=h5py.File('SVHN_single_grey1.h5','r')\n",
    "\n",
    "ls=list(file.keys())\n",
    "print('datasets: \\n',ls)"
   ]
  },
  {
   "cell_type": "markdown",
   "id": "1ee38ac9-7cd6-4f80-b6b7-664c414bb794",
   "metadata": {},
   "source": [
    "First we get the dataset"
   ]
  },
  {
   "cell_type": "code",
   "execution_count": 12,
   "id": "b9c9016a-4cbc-429a-8e9b-d855050b2154",
   "metadata": {},
   "outputs": [
    {
     "data": {
      "text/plain": [
       "['X_test', 'X_train', 'X_val', 'y_test', 'y_train', 'y_val']"
      ]
     },
     "execution_count": 13,
     "metadata": {},
     "output_type": "execute_result"
    }
   ],
   "source": [
    "df=file\n",
    "list(df.keys())"
   ]
  },
  {
   "cell_type": "markdown",
   "id": "0f31904f-366a-4adf-96bf-18cfaaccaa7d",
   "metadata": {},
   "source": [
    "Converting Images to numpy array format"
   ]
  },
  {
   "cell_type": "code",
   "execution_count": 14,
   "id": "0af9a619-61dc-4bc3-ae95-0199b7edb177",
   "metadata": {},
   "outputs": [],
   "source": [
    "xtest=np.array(df['X_test'])\n",
    "ytest=np.array(df['y_test'])\n",
    "xval=np.array(df['X_val'])\n",
    "\n",
    "xtrain=np.array(df['X_train'])\n",
    "ytrain=np.array(df['y_train'])\n",
    "yval=np.array(df['y_val'])"
   ]
  },
  {
   "cell_type": "markdown",
   "id": "6a9a9a9b-0e23-4a97-b0c6-4a5bb3b896c3",
   "metadata": {},
   "source": [
    "Looking at the input shape and data shape of images"
   ]
  },
  {
   "cell_type": "code",
   "execution_count": 15,
   "id": "9cec4b87-821b-4df0-ab4b-fcbffc59c463",
   "metadata": {},
   "outputs": [
    {
     "data": {
      "text/plain": [
       "array([[86.9591, 87.0685, 88.3735, ..., 91.8014, 89.7477, 92.5302],\n",
       "       [86.688 , 86.9114, 87.4337, ..., 90.7306, 87.204 , 88.5629],\n",
       "       [85.9654, 85.8145, 85.9239, ..., 63.8626, 59.8199, 54.8805],\n",
       "       ...,\n",
       "       [90.2236, 91.0448, 93.4637, ..., 55.3535, 48.5822, 44.0557],\n",
       "       [90.6427, 90.4039, 90.937 , ..., 78.2696, 77.4977, 74.27  ],\n",
       "       [88.0236, 88.1977, 86.6709, ..., 75.2206, 76.6396, 79.2865]],\n",
       "      dtype=float32)"
      ]
     },
     "execution_count": 15,
     "metadata": {},
     "output_type": "execute_result"
    }
   ],
   "source": [
    "xtrain[1]"
   ]
  },
  {
   "cell_type": "code",
   "execution_count": 16,
   "id": "7cc480db-aea1-4c72-abf7-ea34a24ef4fc",
   "metadata": {},
   "outputs": [
    {
     "data": {
      "text/plain": [
       "(32, 32)"
      ]
     },
     "execution_count": 16,
     "metadata": {},
     "output_type": "execute_result"
    }
   ],
   "source": [
    "xtrain[5].shape"
   ]
  },
  {
   "cell_type": "code",
   "execution_count": 17,
   "id": "a961c1ed-1ecb-445e-816e-8732c5ed72e7",
   "metadata": {},
   "outputs": [
    {
     "data": {
      "text/plain": [
       "(42000, 32, 32)"
      ]
     },
     "execution_count": 17,
     "metadata": {},
     "output_type": "execute_result"
    }
   ],
   "source": [
    "xtrain.shape"
   ]
  },
  {
   "cell_type": "code",
   "execution_count": 18,
   "id": "9335604b-3a29-4cb0-8609-3a03a9b2d343",
   "metadata": {},
   "outputs": [
    {
     "data": {
      "text/plain": [
       "(42000,)"
      ]
     },
     "execution_count": 18,
     "metadata": {},
     "output_type": "execute_result"
    }
   ],
   "source": [
    "ytrain.shape"
   ]
  },
  {
   "cell_type": "code",
   "execution_count": 19,
   "id": "82610aa8-3cd4-4ed1-a2b7-c54ffb64ff4e",
   "metadata": {},
   "outputs": [
    {
     "data": {
      "text/plain": [
       "(18000, 32, 32)"
      ]
     },
     "execution_count": 19,
     "metadata": {},
     "output_type": "execute_result"
    }
   ],
   "source": [
    "xtest.shape"
   ]
  },
  {
   "cell_type": "code",
   "execution_count": 20,
   "id": "5ee8f1e5-f070-40b1-a1ae-b6c167189321",
   "metadata": {},
   "outputs": [
    {
     "data": {
      "text/plain": [
       "(18000,)"
      ]
     },
     "execution_count": 20,
     "metadata": {},
     "output_type": "execute_result"
    }
   ],
   "source": [
    "ytest.shape"
   ]
  },
  {
   "cell_type": "markdown",
   "id": "889a06dd-9a73-4006-93dc-034f50240c84",
   "metadata": {},
   "source": [
    "In order to make calculation and Processing efficient we Normalize the data"
   ]
  },
  {
   "cell_type": "code",
   "execution_count": 21,
   "id": "72f462ec-5a92-4e5a-b48f-39e5bd291327",
   "metadata": {},
   "outputs": [],
   "source": [
    "xtrain=xtrain/255\n",
    "xtest=xtest/255\n",
    "xval=xval/255"
   ]
  },
  {
   "cell_type": "markdown",
   "id": "cdbf8621-6cf1-4965-a8d0-c0eaf596e676",
   "metadata": {},
   "source": [
    "image view "
   ]
  },
  {
   "cell_type": "code",
   "execution_count": 22,
   "id": "dbfd6171-9f5e-4573-96b6-38ac52259aba",
   "metadata": {},
   "outputs": [
    {
     "data": {
      "text/plain": [
       "<matplotlib.image.AxesImage at 0x22528c10d90>"
      ]
     },
     "execution_count": 22,
     "metadata": {},
     "output_type": "execute_result"
    },
    {
     "data": {
      "image/png": "[encoded data removed]",
      "text/plain": [
       "<Figure size 432x288 with 1 Axes>"
      ]
     },
     "metadata": {
      "needs_background": "light"
     },
     "output_type": "display_data"
    }
   ],
   "source": [
    "plt.imshow(xtrain[0])"
   ]
  },
  {
   "cell_type": "markdown",
   "id": "fe95e9bc-76bb-408e-b256-6f663a922217",
   "metadata": {},
   "source": [
    "We see that the images are RGB and has other colors around the edges. So, the plan is to create a 32X32X3 CNN Model with dense layers to recognize the digits with significant accuracy. \n",
    "\n",
    "1. First we create an Inoput Shape 32X32X3\n",
    "2. We creade Hidden Layers\n",
    "3. We look at the Features\n",
    "4. We build the model based on the dataset with Hidden Layer, RELU, Convolution,Polling and Padding\n",
    "5. from this we device the extraction layer\n",
    "6. After creating model we train the model and fit the model.\n",
    "7. Then we test the model for accuracy"
   ]
  },
  {
   "cell_type": "markdown",
   "id": "d887dfad-5587-4da3-8d48-98b8c338b0bd",
   "metadata": {},
   "source": [
    "Creating the model based on dataset and Image structure"
   ]
  },
  {
   "cell_type": "markdown",
   "id": "a7b0869b-ca71-43bc-8494-ddd583685e51",
   "metadata": {},
   "source": [
    "- We are creating a 32 conv2D filter kernel\n",
    "- We are creating a 64 conv 2D filter kernel\n",
    "- We are creating Pooling, padding,Dropout\n",
    "- Flatten\n",
    "- Then Dense 64 layer\n",
    "- Then Final output layer Dense 10 with softmax\n",
    "- WE ave input layer 2 hidden layers and Ouput Layer"
   ]
  },
  {
   "cell_type": "code",
   "execution_count": 26,
   "id": "ce57a651-b232-4fb3-aebd-41664ff0dbd0",
   "metadata": {},
   "outputs": [],
   "source": [
    "model=Sequential()\n",
    "#Input Layer\n",
    "model.add(Conv2D(filters=32,kernel_size=(3,3),activation='relu',input_shape=(32,32,1)))\n",
    "model.add(MaxPooling2D((2,2)))\n",
    "# Hillden Layer 1\n",
    "model.add(Conv2D(filters=64,kernel_size=(3,3),activation='relu'))\n",
    "model.add(MaxPooling2D(2,2))\n",
    "#Hidden Layer 2\n",
    "model.add(Conv2D(filters=64,kernel_size=(3,3),activation='relu'))\n",
    "model.add(MaxPooling2D(2,2))\n",
    "\n",
    "model.add(Flatten())\n",
    "model.add(Dense(64,activation='relu'))\n",
    "model.add(Dense(10,activation='softmax'))"
   ]
  },
  {
   "cell_type": "code",
   "execution_count": 27,
   "id": "eb123939-66c6-46c0-aaaf-1a58b8291bdc",
   "metadata": {},
   "outputs": [
    {
     "name": "stdout",
     "output_type": "stream",
     "text": [
      "Model: \"sequential\"\n",
      "_________________________________________________________________\n",
      " Layer (type)                Output Shape              Param #   \n",
      "=================================================================\n",
      " conv2d (Conv2D)             (None, 30, 30, 32)        320       \n",
      "                                                                 \n",
      " max_pooling2d (MaxPooling2D  (None, 15, 15, 32)       0         \n",
      " )                                                               \n",
      "                                                                 \n",
      " conv2d_1 (Conv2D)           (None, 13, 13, 64)        18496     \n",
      "                                                                 \n",
      " max_pooling2d_1 (MaxPooling  (None, 6, 6, 64)         0         \n",
      " 2D)                                                             \n",
      "                                                                 \n",
      " conv2d_2 (Conv2D)           (None, 4, 4, 64)          36928     \n",
      "                                                                 \n",
      " max_pooling2d_2 (MaxPooling  (None, 2, 2, 64)         0         \n",
      " 2D)                                                             \n",
      "                                                                 \n",
      " flatten (Flatten)           (None, 256)               0         \n",
      "                                                                 \n",
      " dense (Dense)               (None, 64)                16448     \n",
      "                                                                 \n",
      " dense_1 (Dense)             (None, 10)                650       \n",
      "                                                                 \n",
      "=================================================================\n",
      "Total params: 72,842\n",
      "Trainable params: 72,842\n",
      "Non-trainable params: 0\n",
      "_________________________________________________________________\n"
     ]
    }
   ],
   "source": [
    "model.summary()"
   ]
  },
  {
   "cell_type": "code",
   "execution_count": 28,
   "id": "237e45e3-cbcc-43dd-896a-3552f859e829",
   "metadata": {},
   "outputs": [],
   "source": [
    "model.compile(optimizer='adam',loss='sparse_categorical_crossentropy',metrics=['accuracy'])"
   ]
  },
  {
   "cell_type": "code",
   "execution_count": 54,
   "id": "9ec821e8-5fda-44e9-9a40-80a2c313be9f",
   "metadata": {},
   "outputs": [
    {
     "name": "stdout",
     "output_type": "stream",
     "text": [
      "Epoch 1/15\n",
      "1313/1313 [==============================] - 43s 33ms/step - loss: 0.1309 - accuracy: 0.9591\n",
      "Epoch 2/15\n",
      "1313/1313 [==============================] - 49s 37ms/step - loss: 0.1225 - accuracy: 0.9619\n",
      "Epoch 3/15\n",
      "1313/1313 [==============================] - 54s 41ms/step - loss: 0.1140 - accuracy: 0.9638\n",
      "Epoch 4/15\n",
      "1313/1313 [==============================] - 57s 43ms/step - loss: 0.1092 - accuracy: 0.9659\n",
      "Epoch 5/15\n",
      "1313/1313 [==============================] - 55s 42ms/step - loss: 0.1083 - accuracy: 0.9648\n",
      "Epoch 6/15\n",
      "1313/1313 [==============================] - 56s 43ms/step - loss: 0.0999 - accuracy: 0.9682\n",
      "Epoch 7/15\n",
      "1313/1313 [==============================] - 63s 48ms/step - loss: 0.0989 - accuracy: 0.9675\n",
      "Epoch 8/15\n",
      "1313/1313 [==============================] - 61s 46ms/step - loss: 0.0921 - accuracy: 0.9693\n",
      "Epoch 9/15\n",
      "1313/1313 [==============================] - 60s 45ms/step - loss: 0.0926 - accuracy: 0.9696\n",
      "Epoch 10/15\n",
      "1313/1313 [==============================] - 61s 46ms/step - loss: 0.0857 - accuracy: 0.9716\n",
      "Epoch 11/15\n",
      "1313/1313 [==============================] - 61s 46ms/step - loss: 0.0820 - accuracy: 0.9732\n",
      "Epoch 12/15\n",
      "1313/1313 [==============================] - 64s 49ms/step - loss: 0.0814 - accuracy: 0.9723\n",
      "Epoch 13/15\n",
      "1313/1313 [==============================] - 60s 46ms/step - loss: 0.0786 - accuracy: 0.9730\n",
      "Epoch 14/15\n",
      "1313/1313 [==============================] - 74s 56ms/step - loss: 0.0730 - accuracy: 0.9756\n",
      "Epoch 15/15\n",
      "1313/1313 [==============================] - 86s 65ms/step - loss: 0.0744 - accuracy: 0.9752\n"
     ]
    }
   ],
   "source": [
    "history=model.fit(xtrain,ytrain,epochs=15)"
   ]
  },
  {
   "cell_type": "code",
   "execution_count": 58,
   "id": "7f85a919-1f6a-4d3b-90ae-b10c27271500",
   "metadata": {},
   "outputs": [
    {
     "data": {
      "image/png": "[encoded data removed]",
      "text/plain": [
       "<Figure size 432x288 with 1 Axes>"
      ]
     },
     "metadata": {
      "needs_background": "light"
     },
     "output_type": "display_data"
    }
   ],
   "source": [
    "plt.plot(history.history['accuracy'])\n",
    "plt.title('model accuracy')\n",
    "plt.ylabel('accuracy')\n",
    "plt.xlabel('epoch')\n",
    "plt.legend(['train'],loc='upper left')\n",
    "plt.show()"
   ]
  },
  {
   "cell_type": "code",
   "execution_count": null,
   "id": "7755d665-979d-4bc7-9f27-ef2b81e747c7",
   "metadata": {},
   "outputs": [],
   "source": []
  },
  {
   "cell_type": "code",
   "execution_count": 30,
   "id": "2224ecdf-10e8-4880-89bb-e246348987f0",
   "metadata": {},
   "outputs": [
    {
     "name": "stdout",
     "output_type": "stream",
     "text": [
      "1875/1875 [==============================] - 16s 8ms/step - loss: 0.2190 - accuracy: 0.9378\n"
     ]
    },
    {
     "data": {
      "text/plain": [
       "[0.21904632449150085, 0.9378499984741211]"
      ]
     },
     "execution_count": 30,
     "metadata": {},
     "output_type": "execute_result"
    }
   ],
   "source": [
    "model.evaluate(xval,yval)"
   ]
  },
  {
   "cell_type": "code",
   "execution_count": null,
   "id": "652c9a13-e0df-453a-b15b-114525abcbf2",
   "metadata": {},
   "outputs": [
    {
     "name": "stdout",
     "output_type": "stream",
     "text": [
      "563/563 [==============================] - 6s 10ms/step - loss: 0.3638 - accuracy: 0.9039\n"
     ]
    },
    {
     "data": {
      "text/plain": [
       "[0.3638301491737366, 0.9039444327354431]"
      ]
     },
     "execution_count": 33,
     "metadata": {},
     "output_type": "execute_result"
    }
   ],
   "source": [
    "model.evaluate(xtest,ytest)"
   ]
  },
  {
   "cell_type": "markdown",
   "id": "4bed9f92-4778-4710-9dd8-9381eb561d5a",
   "metadata": {},
   "source": [
    "We see our model needs to improve and we need to dropout some connections to improve daccuracy "
   ]
  },
  {
   "cell_type": "markdown",
   "id": "f955fe75-062f-4690-ac1f-21594a4326a3",
   "metadata": {},
   "source": [
    "We go for min max scaler, dropout, accuracy, we will try reshape the dataset as well"
   ]
  },
  {
   "cell_type": "markdown",
   "id": "012be41a-7508-4d55-bb2f-a4a53df715df",
   "metadata": {},
   "source": [
    "MinMax Scaler"
   ]
  },
  {
   "cell_type": "code",
   "execution_count": 34,
   "id": "c4b22393-7fb5-4fc8-a48a-35b127c25551",
   "metadata": {},
   "outputs": [],
   "source": [
    "scaler=MinMaxScaler()\n",
    "\n",
    "x1train=scaler.fit_transform(xtrain.reshape(-1,xtrain.shape[-1])).reshape(xtrain.shape)\n",
    "x1test=scaler.transform(xtest.reshape(-1,xtest.shape[-1])).reshape(xtest.shape)\n",
    "x1val=scaler.transform(xval.reshape(-1,xval.shape[-1])).reshape(xval.shape)"
   ]
  },
  {
   "cell_type": "markdown",
   "id": "eb8cf675-06f0-4fb2-b589-54cbc3e9cd74",
   "metadata": {},
   "source": [
    "Model for the scaled data"
   ]
  },
  {
   "cell_type": "code",
   "execution_count": 38,
   "id": "62c23184-dbe1-45ea-b13d-364a7ccf6803",
   "metadata": {},
   "outputs": [],
   "source": [
    "model1=Sequential()\n",
    "\n",
    "#Input Layer\n",
    "model1.add(Conv2D(filters=32,kernel_size=(3,3),activation='relu',input_shape=(32,32,1)))\n",
    "model1.add(MaxPooling2D((2,2)))\n",
    "\n",
    "#First Hidden Layer\n",
    "model1.add(Conv2D(filters=64,kernel_size=(3,3),activation='relu'))\n",
    "model1.add(MaxPooling2D((2, 2)))\n",
    "model1.add(Dropout(0.2))\n",
    "\n",
    "#Second Hidden Layer\n",
    "model1.add(Conv2D(filters=64,kernel_size=(3,3),activation='relu'))\n",
    "model1.add(MaxPooling2D((2,2)))\n",
    "model1.add(Dropout(0.2))\n",
    "model1.add(Flatten())\n",
    "model1.add(Dense(64, activation='relu'))\n",
    "\n",
    "#The softtmax function uis used as the activation function in the output Layer of neura; network\n",
    "#Models thatr redict a multinomial probability\n",
    "model1.add(Dense(10,activation='softmax'))"
   ]
  },
  {
   "cell_type": "code",
   "execution_count": 39,
   "id": "2272a683-6f7a-4e36-b163-5399eb55bee3",
   "metadata": {},
   "outputs": [
    {
     "name": "stdout",
     "output_type": "stream",
     "text": [
      "Model: \"sequential_3\"\n",
      "_________________________________________________________________\n",
      " Layer (type)                Output Shape              Param #   \n",
      "=================================================================\n",
      " conv2d_9 (Conv2D)           (None, 30, 30, 32)        320       \n",
      "                                                                 \n",
      " max_pooling2d_9 (MaxPooling  (None, 15, 15, 32)       0         \n",
      " 2D)                                                             \n",
      "                                                                 \n",
      " conv2d_10 (Conv2D)          (None, 13, 13, 64)        18496     \n",
      "                                                                 \n",
      " max_pooling2d_10 (MaxPoolin  (None, 6, 6, 64)         0         \n",
      " g2D)                                                            \n",
      "                                                                 \n",
      " dropout_4 (Dropout)         (None, 6, 6, 64)          0         \n",
      "                                                                 \n",
      " conv2d_11 (Conv2D)          (None, 4, 4, 64)          36928     \n",
      "                                                                 \n",
      " max_pooling2d_11 (MaxPoolin  (None, 2, 2, 64)         0         \n",
      " g2D)                                                            \n",
      "                                                                 \n",
      " dropout_5 (Dropout)         (None, 2, 2, 64)          0         \n",
      "                                                                 \n",
      " flatten_3 (Flatten)         (None, 256)               0         \n",
      "                                                                 \n",
      " dense_6 (Dense)             (None, 64)                16448     \n",
      "                                                                 \n",
      " dense_7 (Dense)             (None, 10)                650       \n",
      "                                                                 \n",
      "=================================================================\n",
      "Total params: 72,842\n",
      "Trainable params: 72,842\n",
      "Non-trainable params: 0\n",
      "_________________________________________________________________\n"
     ]
    }
   ],
   "source": [
    "model1.summary()"
   ]
  },
  {
   "cell_type": "code",
   "execution_count": 42,
   "id": "160950f9-2a55-4586-9916-32cab06feaa4",
   "metadata": {},
   "outputs": [],
   "source": [
    "model1.compile(optimizer='adam',loss='sparse_categorical_crossentropy',metrics=['accuracy'])"
   ]
  },
  {
   "cell_type": "code",
   "execution_count": 43,
   "id": "d5861d58-525e-4932-b0b9-9a1a6abcc00d",
   "metadata": {},
   "outputs": [
    {
     "name": "stdout",
     "output_type": "stream",
     "text": [
      "Epoch 1/20\n",
      "1313/1313 [==============================] - 36s 27ms/step - loss: 0.5479 - accuracy: 0.8363\n",
      "Epoch 2/20\n",
      "1313/1313 [==============================] - 41s 31ms/step - loss: 0.4774 - accuracy: 0.8541\n",
      "Epoch 3/20\n",
      "1313/1313 [==============================] - 46s 35ms/step - loss: 0.4336 - accuracy: 0.8688\n",
      "Epoch 4/20\n",
      "1313/1313 [==============================] - 51s 39ms/step - loss: 0.4053 - accuracy: 0.8768\n",
      "Epoch 5/20\n",
      "1313/1313 [==============================] - 55s 42ms/step - loss: 0.3821 - accuracy: 0.8837\n",
      "Epoch 6/20\n",
      "1313/1313 [==============================] - 56s 43ms/step - loss: 0.3629 - accuracy: 0.8883\n",
      "Epoch 7/20\n",
      "1313/1313 [==============================] - 58s 44ms/step - loss: 0.3496 - accuracy: 0.8932\n",
      "Epoch 8/20\n",
      "1313/1313 [==============================] - 58s 44ms/step - loss: 0.3371 - accuracy: 0.8955\n",
      "Epoch 9/20\n",
      "1313/1313 [==============================] - 65s 50ms/step - loss: 0.3220 - accuracy: 0.8996\n",
      "Epoch 10/20\n",
      "1313/1313 [==============================] - 68s 51ms/step - loss: 0.3164 - accuracy: 0.9015\n",
      "Epoch 11/20\n",
      "1313/1313 [==============================] - 71s 54ms/step - loss: 0.3070 - accuracy: 0.9054\n",
      "Epoch 12/20\n",
      "1313/1313 [==============================] - 79s 60ms/step - loss: 0.2996 - accuracy: 0.9075\n",
      "Epoch 13/20\n",
      "1313/1313 [==============================] - 85s 65ms/step - loss: 0.2932 - accuracy: 0.9104\n",
      "Epoch 14/20\n",
      "1313/1313 [==============================] - 77s 58ms/step - loss: 0.2873 - accuracy: 0.9099\n",
      "Epoch 15/20\n",
      "1313/1313 [==============================] - 75s 57ms/step - loss: 0.2849 - accuracy: 0.9140\n",
      "Epoch 16/20\n",
      "1313/1313 [==============================] - 81s 61ms/step - loss: 0.2762 - accuracy: 0.9132\n",
      "Epoch 17/20\n",
      "1313/1313 [==============================] - 81s 62ms/step - loss: 0.2717 - accuracy: 0.9160\n",
      "Epoch 18/20\n",
      "1313/1313 [==============================] - 82s 63ms/step - loss: 0.2682 - accuracy: 0.9168\n",
      "Epoch 19/20\n",
      "1313/1313 [==============================] - 84s 64ms/step - loss: 0.2654 - accuracy: 0.9177\n",
      "Epoch 20/20\n",
      "1313/1313 [==============================] - 95s 73ms/step - loss: 0.2577 - accuracy: 0.9183\n"
     ]
    },
    {
     "data": {
      "text/plain": [
       "<keras.callbacks.History at 0x225781506d0>"
      ]
     },
     "execution_count": 43,
     "metadata": {},
     "output_type": "execute_result"
    }
   ],
   "source": [
    "model1.fit(x1train,ytrain,epochs=20)"
   ]
  },
  {
   "cell_type": "code",
   "execution_count": 44,
   "id": "dfa20255-9e74-4822-8d67-f0b82c8b0168",
   "metadata": {},
   "outputs": [
    {
     "name": "stdout",
     "output_type": "stream",
     "text": [
      "1875/1875 [==============================] - 13s 7ms/step - loss: 0.1853 - accuracy: 0.9481\n"
     ]
    },
    {
     "data": {
      "text/plain": [
       "[0.18532055616378784, 0.9480833411216736]"
      ]
     },
     "execution_count": 44,
     "metadata": {},
     "output_type": "execute_result"
    }
   ],
   "source": [
    "model1.evaluate(x1val,yval)"
   ]
  },
  {
   "cell_type": "code",
   "execution_count": 45,
   "id": "d73c7a7b-c982-463b-8b7d-0265ccea5220",
   "metadata": {},
   "outputs": [
    {
     "name": "stdout",
     "output_type": "stream",
     "text": [
      "563/563 [==============================] - 4s 7ms/step - loss: 0.2607 - accuracy: 0.9259\n"
     ]
    },
    {
     "data": {
      "text/plain": [
       "[0.260722815990448, 0.925944447517395]"
      ]
     },
     "execution_count": 45,
     "metadata": {},
     "output_type": "execute_result"
    }
   ],
   "source": [
    "model1.evaluate(x1test,ytest)"
   ]
  },
  {
   "cell_type": "code",
   "execution_count": null,
   "id": "454bb88d-8123-4c24-ab42-035b2dc71d67",
   "metadata": {},
   "outputs": [],
   "source": []
  },
  {
   "cell_type": "code",
   "execution_count": 49,
   "id": "a3a4a7d6-2def-4c0d-a960-3a669f26edd9",
   "metadata": {},
   "outputs": [
    {
     "name": "stdout",
     "output_type": "stream",
     "text": [
      "Epoch 1/20\n",
      "1313/1313 [==============================] - 34s 26ms/step - loss: 0.2547 - accuracy: 0.9198\n",
      "Epoch 2/20\n",
      "1313/1313 [==============================] - 42s 32ms/step - loss: 0.2510 - accuracy: 0.9213\n",
      "Epoch 3/20\n",
      "1313/1313 [==============================] - 45s 34ms/step - loss: 0.2491 - accuracy: 0.9223\n",
      "Epoch 4/20\n",
      "1313/1313 [==============================] - 48s 36ms/step - loss: 0.2498 - accuracy: 0.9210\n",
      "Epoch 5/20\n",
      "1313/1313 [==============================] - 48s 36ms/step - loss: 0.2449 - accuracy: 0.9231\n",
      "Epoch 6/20\n",
      "1313/1313 [==============================] - 52s 40ms/step - loss: 0.2438 - accuracy: 0.9219\n",
      "Epoch 7/20\n",
      "1313/1313 [==============================] - 52s 40ms/step - loss: 0.2392 - accuracy: 0.9243\n",
      "Epoch 8/20\n",
      "1313/1313 [==============================] - 53s 40ms/step - loss: 0.2363 - accuracy: 0.9260\n",
      "Epoch 9/20\n",
      "1313/1313 [==============================] - 54s 41ms/step - loss: 0.2359 - accuracy: 0.9245\n",
      "Epoch 10/20\n",
      "1313/1313 [==============================] - 53s 40ms/step - loss: 0.2328 - accuracy: 0.9255\n",
      "Epoch 11/20\n",
      "1313/1313 [==============================] - 51s 39ms/step - loss: 0.2295 - accuracy: 0.9279\n",
      "Epoch 12/20\n",
      "1313/1313 [==============================] - 55s 42ms/step - loss: 0.2306 - accuracy: 0.9268\n",
      "Epoch 13/20\n",
      "1313/1313 [==============================] - 56s 42ms/step - loss: 0.2261 - accuracy: 0.9283\n",
      "Epoch 14/20\n",
      "1313/1313 [==============================] - 54s 41ms/step - loss: 0.2241 - accuracy: 0.9294\n",
      "Epoch 15/20\n",
      "1313/1313 [==============================] - 57s 43ms/step - loss: 0.2280 - accuracy: 0.9263\n",
      "Epoch 16/20\n",
      "1313/1313 [==============================] - 55s 42ms/step - loss: 0.2146 - accuracy: 0.9316\n",
      "Epoch 17/20\n",
      "1313/1313 [==============================] - 54s 42ms/step - loss: 0.2173 - accuracy: 0.9304\n",
      "Epoch 18/20\n",
      "1313/1313 [==============================] - 57s 43ms/step - loss: 0.2163 - accuracy: 0.9318\n",
      "Epoch 19/20\n",
      "1313/1313 [==============================] - 58s 44ms/step - loss: 0.2170 - accuracy: 0.9308\n",
      "Epoch 20/20\n",
      "1313/1313 [==============================] - 57s 44ms/step - loss: 0.2140 - accuracy: 0.9313\n"
     ]
    }
   ],
   "source": [
    "history=model1.fit(x1train,ytrain,epochs=20)"
   ]
  },
  {
   "cell_type": "code",
   "execution_count": 50,
   "id": "25facfea-7410-43e3-aaaf-bdcf1c11e9a1",
   "metadata": {},
   "outputs": [
    {
     "data": {
      "text/plain": [
       "dict_keys(['loss', 'accuracy'])"
      ]
     },
     "execution_count": 50,
     "metadata": {},
     "output_type": "execute_result"
    }
   ],
   "source": [
    "history.history.keys()"
   ]
  },
  {
   "cell_type": "code",
   "execution_count": 52,
   "id": "1f68c4b8-4637-4617-830a-a2bf7f80e49e",
   "metadata": {},
   "outputs": [
    {
     "data": {
      "image/png": "[encoded data removed]",
      "text/plain": [
       "<Figure size 432x288 with 1 Axes>"
      ]
     },
     "metadata": {
      "needs_background": "light"
     },
     "output_type": "display_data"
    }
   ],
   "source": [
    "plt.plot(history.history['accuracy'])\n",
    "plt.title('model accuracy')\n",
    "plt.ylabel('accuracy')\n",
    "plt.xlabel('epoch')\n",
    "plt.legend(['train'],loc='upper left')\n",
    "plt.show()"
   ]
  },
  {
   "cell_type": "markdown",
   "id": "0bc81a4c-8461-484d-a4bd-e63f8c2a8ef1",
   "metadata": {},
   "source": [
    "We see that in the first model we have not used normalization and scaling so the accuracy is less we run 15 epochs here the optimum values are loss: 0.1839 - accuracy: 0.9430, we further investigate \n",
    "\n",
    "keeping in mind the model may be overfit so we implement dropout and MinMax scaling and moreover incrose the epochs to 20, so we see with same parameter 72,842 we may have better acccuracy. \n",
    "Keep in mind we are using Drop outs this time solve overfit model possibility. To our concern we see, the accuracy is loss: 0.2577 - accuracy: 0.9183. Again we see that model evaluation accuracy is \n",
    "loss: 0.1853 - accuracy: 0.9481. This is an optimal level so we can use model 1 as a decent model for processing numbers from the dataset. \n",
    "\n",
    "Notice after 10 epochs in both the models the loss decreasing and accuracy increasing. The second model trained with 20 epochs is a good one however, much more tuning and customization\n",
    "can be done and other approches is open to research that can improve the model, so far I eblieve my second model is descent and can predicts digits from image with 94.8 % accuracy.\n"
   ]
  },
  {
   "cell_type": "markdown",
   "id": "ce5726ab-70c4-4a20-bd93-7b25a5425527",
   "metadata": {},
   "source": [
    "Thank you for evaluating my Capstone Project use case and Solution ..... "
   ]
  }
 ],
 "metadata": {
  "kernelspec": {
   "display_name": "Python 3 (ipykernel)",
   "language": "python",
   "name": "python3"
  },
  "language_info": {
   "codemirror_mode": {
    "name": "ipython",
    "version": 3
   },
   "file_extension": ".py",
   "mimetype": "text/x-python",
   "name": "python",
   "nbconvert_exporter": "python",
   "pygments_lexer": "ipython3",
   "version": "3.9.12"
  }
 },
 "nbformat": 4,
 "nbformat_minor": 5
}
