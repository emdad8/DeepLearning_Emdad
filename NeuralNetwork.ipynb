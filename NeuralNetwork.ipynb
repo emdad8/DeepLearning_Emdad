{
 "cells": [
  {
   "cell_type": "code",
   "execution_count": 3,
   "id": "c3cd8c50-99f0-4d22-b6d2-937792adb2fe",
   "metadata": {},
   "outputs": [],
   "source": [
    "#Input layer - CNN / Dense Layer/ Convoluted Layer \n",
    "# i. ReLU layer\n",
    "# ii. Pooling layer\n",
    "#   i. batch Normalization\n",
    "#   ii. Dropout layer\n",
    "#   iii. Upsampling\n",
    "\n",
    "# 2. Hidden layer - NN\n",
    "# 3. Output layer - FCNN"
   ]
  },
  {
   "cell_type": "code",
   "execution_count": 2,
   "id": "a054130c-1f2b-4351-97b4-348a14d8ae8e",
   "metadata": {},
   "outputs": [],
   "source": [
    "# 1. Tensor Flow\n",
    "# 2. Pytorch\n",
    "# 3. MaxNet"
   ]
  },
  {
   "cell_type": "code",
   "execution_count": 4,
   "id": "d76f5b67-e1c6-41b3-b337-632d1e03fb20",
   "metadata": {},
   "outputs": [
    {
     "ename": "ModuleNotFoundError",
     "evalue": "No module named 'tensorflow'",
     "output_type": "error",
     "traceback": [
      "\u001b[1;31m---------------------------------------------------------------------------\u001b[0m",
      "\u001b[1;31mModuleNotFoundError\u001b[0m                       Traceback (most recent call last)",
      "Input \u001b[1;32mIn [4]\u001b[0m, in \u001b[0;36m<cell line: 2>\u001b[1;34m()\u001b[0m\n\u001b[0;32m      1\u001b[0m \u001b[38;5;66;03m# this sectionm is for model\u001b[39;00m\n\u001b[1;32m----> 2\u001b[0m \u001b[38;5;28;01mimport\u001b[39;00m \u001b[38;5;21;01mtensorflow\u001b[39;00m \u001b[38;5;28;01mas\u001b[39;00m \u001b[38;5;21;01mtf\u001b[39;00m\n\u001b[0;32m      4\u001b[0m \u001b[38;5;66;03m# this section for algebraic analysis\u001b[39;00m\n\u001b[0;32m      5\u001b[0m \u001b[38;5;28;01mimport\u001b[39;00m \u001b[38;5;21;01mnumpy\u001b[39;00m \u001b[38;5;28;01mas\u001b[39;00m \u001b[38;5;21;01mnp\u001b[39;00m\n",
      "\u001b[1;31mModuleNotFoundError\u001b[0m: No module named 'tensorflow'"
     ]
    }
   ],
   "source": [
    "# this sectionm is for model\n",
    "import tensorflow as tf\n",
    "\n",
    "# this section for algebraic analysis\n",
    "import numpy as np\n",
    "\n",
    "# This section for vizualization\n",
    "import matplotlib.pyplot as plt\n",
    "\n",
    "\n",
    "import warnings\n",
    "warning.filterwarnings('ignore')\n",
    "%matplotlib inline"
   ]
  },
  {
   "cell_type": "code",
   "execution_count": 5,
   "id": "efc1ddaa-98be-438d-8114-ce68859eb5ef",
   "metadata": {},
   "outputs": [
    {
     "name": "stdout",
     "output_type": "stream",
     "text": [
      "Collecting tensorflow\n",
      "  Downloading tensorflow-2.10.0-cp39-cp39-win_amd64.whl (455.9 MB)\n",
      "Collecting astunparse>=1.6.0\n",
      "  Downloading astunparse-1.6.3-py2.py3-none-any.whl (12 kB)\n",
      "Collecting tensorboard<2.11,>=2.10\n",
      "  Downloading tensorboard-2.10.1-py3-none-any.whl (5.9 MB)\n",
      "Collecting flatbuffers>=2.0\n",
      "  Downloading flatbuffers-22.10.26-py2.py3-none-any.whl (26 kB)\n",
      "Collecting gast<=0.4.0,>=0.2.1\n",
      "  Downloading gast-0.4.0-py3-none-any.whl (9.8 kB)\n",
      "Collecting google-pasta>=0.1.1\n",
      "  Downloading google_pasta-0.2.0-py3-none-any.whl (57 kB)\n",
      "Collecting tensorflow-estimator<2.11,>=2.10.0\n",
      "  Downloading tensorflow_estimator-2.10.0-py2.py3-none-any.whl (438 kB)\n",
      "Collecting absl-py>=1.0.0\n",
      "  Downloading absl_py-1.3.0-py3-none-any.whl (124 kB)\n",
      "Requirement already satisfied: six>=1.12.0 in c:\\users\\administrator\\anaconda3\\lib\\site-packages (from tensorflow) (1.16.0)\n",
      "Collecting termcolor>=1.1.0\n",
      "  Downloading termcolor-2.1.0-py3-none-any.whl (5.8 kB)\n",
      "Requirement already satisfied: typing-extensions>=3.6.6 in c:\\users\\administrator\\anaconda3\\lib\\site-packages (from tensorflow) (4.1.1)\n",
      "Requirement already satisfied: h5py>=2.9.0 in c:\\users\\administrator\\anaconda3\\lib\\site-packages (from tensorflow) (3.6.0)\n",
      "Requirement already satisfied: numpy>=1.20 in c:\\users\\administrator\\anaconda3\\lib\\site-packages (from tensorflow) (1.21.5)\n",
      "Collecting keras<2.11,>=2.10.0\n",
      "  Downloading keras-2.10.0-py2.py3-none-any.whl (1.7 MB)\n",
      "Requirement already satisfied: grpcio<2.0,>=1.24.3 in c:\\users\\administrator\\anaconda3\\lib\\site-packages (from tensorflow) (1.42.0)\n",
      "Requirement already satisfied: setuptools in c:\\users\\administrator\\anaconda3\\lib\\site-packages (from tensorflow) (61.2.0)\n",
      "Requirement already satisfied: protobuf<3.20,>=3.9.2 in c:\\users\\administrator\\anaconda3\\lib\\site-packages (from tensorflow) (3.19.1)\n",
      "Requirement already satisfied: wrapt>=1.11.0 in c:\\users\\administrator\\anaconda3\\lib\\site-packages (from tensorflow) (1.12.1)\n",
      "Collecting opt-einsum>=2.3.2\n",
      "  Downloading opt_einsum-3.3.0-py3-none-any.whl (65 kB)\n",
      "Requirement already satisfied: packaging in c:\\users\\administrator\\anaconda3\\lib\\site-packages (from tensorflow) (21.3)\n",
      "Collecting keras-preprocessing>=1.1.1\n",
      "  Downloading Keras_Preprocessing-1.1.2-py2.py3-none-any.whl (42 kB)\n",
      "Collecting libclang>=13.0.0\n",
      "  Downloading libclang-14.0.6-py2.py3-none-win_amd64.whl (14.2 MB)\n",
      "Collecting tensorflow-io-gcs-filesystem>=0.23.1\n",
      "  Downloading tensorflow_io_gcs_filesystem-0.27.0-cp39-cp39-win_amd64.whl (1.5 MB)\n",
      "Requirement already satisfied: wheel<1.0,>=0.23.0 in c:\\users\\administrator\\anaconda3\\lib\\site-packages (from astunparse>=1.6.0->tensorflow) (0.37.1)\n",
      "Collecting google-auth-oauthlib<0.5,>=0.4.1\n",
      "  Downloading google_auth_oauthlib-0.4.6-py2.py3-none-any.whl (18 kB)\n",
      "Collecting tensorboard-data-server<0.7.0,>=0.6.0\n",
      "  Downloading tensorboard_data_server-0.6.1-py3-none-any.whl (2.4 kB)\n",
      "Requirement already satisfied: google-auth<3,>=1.6.3 in c:\\users\\administrator\\anaconda3\\lib\\site-packages (from tensorboard<2.11,>=2.10->tensorflow) (1.33.0)\n",
      "Requirement already satisfied: markdown>=2.6.8 in c:\\users\\administrator\\anaconda3\\lib\\site-packages (from tensorboard<2.11,>=2.10->tensorflow) (3.3.4)\n",
      "Requirement already satisfied: werkzeug>=1.0.1 in c:\\users\\administrator\\anaconda3\\lib\\site-packages (from tensorboard<2.11,>=2.10->tensorflow) (2.0.3)\n",
      "Collecting tensorboard-plugin-wit>=1.6.0\n",
      "  Downloading tensorboard_plugin_wit-1.8.1-py3-none-any.whl (781 kB)\n",
      "Requirement already satisfied: requests<3,>=2.21.0 in c:\\users\\administrator\\anaconda3\\lib\\site-packages (from tensorboard<2.11,>=2.10->tensorflow) (2.27.1)\n",
      "Requirement already satisfied: cachetools<5.0,>=2.0.0 in c:\\users\\administrator\\anaconda3\\lib\\site-packages (from google-auth<3,>=1.6.3->tensorboard<2.11,>=2.10->tensorflow) (4.2.2)\n",
      "Requirement already satisfied: rsa<5,>=3.1.4 in c:\\users\\administrator\\anaconda3\\lib\\site-packages (from google-auth<3,>=1.6.3->tensorboard<2.11,>=2.10->tensorflow) (4.7.2)\n",
      "Requirement already satisfied: pyasn1-modules>=0.2.1 in c:\\users\\administrator\\anaconda3\\lib\\site-packages (from google-auth<3,>=1.6.3->tensorboard<2.11,>=2.10->tensorflow) (0.2.8)\n",
      "Collecting requests-oauthlib>=0.7.0\n",
      "  Downloading requests_oauthlib-1.3.1-py2.py3-none-any.whl (23 kB)\n",
      "Requirement already satisfied: pyasn1<0.5.0,>=0.4.6 in c:\\users\\administrator\\anaconda3\\lib\\site-packages (from pyasn1-modules>=0.2.1->google-auth<3,>=1.6.3->tensorboard<2.11,>=2.10->tensorflow) (0.4.8)\n",
      "Requirement already satisfied: certifi>=2017.4.17 in c:\\users\\administrator\\anaconda3\\lib\\site-packages (from requests<3,>=2.21.0->tensorboard<2.11,>=2.10->tensorflow) (2021.10.8)\n",
      "Requirement already satisfied: charset-normalizer~=2.0.0 in c:\\users\\administrator\\anaconda3\\lib\\site-packages (from requests<3,>=2.21.0->tensorboard<2.11,>=2.10->tensorflow) (2.0.4)\n",
      "Requirement already satisfied: urllib3<1.27,>=1.21.1 in c:\\users\\administrator\\anaconda3\\lib\\site-packages (from requests<3,>=2.21.0->tensorboard<2.11,>=2.10->tensorflow) (1.26.9)\n",
      "Requirement already satisfied: idna<4,>=2.5 in c:\\users\\administrator\\anaconda3\\lib\\site-packages (from requests<3,>=2.21.0->tensorboard<2.11,>=2.10->tensorflow) (3.3)\n",
      "Collecting oauthlib>=3.0.0\n",
      "  Downloading oauthlib-3.2.2-py3-none-any.whl (151 kB)\n",
      "Requirement already satisfied: pyparsing!=3.0.5,>=2.0.2 in c:\\users\\administrator\\anaconda3\\lib\\site-packages (from packaging->tensorflow) (3.0.4)\n",
      "Installing collected packages: oauthlib, requests-oauthlib, tensorboard-plugin-wit, tensorboard-data-server, google-auth-oauthlib, absl-py, termcolor, tensorflow-io-gcs-filesystem, tensorflow-estimator, tensorboard, opt-einsum, libclang, keras-preprocessing, keras, google-pasta, gast, flatbuffers, astunparse, tensorflow\n",
      "Successfully installed absl-py-1.3.0 astunparse-1.6.3 flatbuffers-22.10.26 gast-0.4.0 google-auth-oauthlib-0.4.6 google-pasta-0.2.0 keras-2.10.0 keras-preprocessing-1.1.2 libclang-14.0.6 oauthlib-3.2.2 opt-einsum-3.3.0 requests-oauthlib-1.3.1 tensorboard-2.10.1 tensorboard-data-server-0.6.1 tensorboard-plugin-wit-1.8.1 tensorflow-2.10.0 tensorflow-estimator-2.10.0 tensorflow-io-gcs-filesystem-0.27.0 termcolor-2.1.0\n",
      "Note: you may need to restart the kernel to use updated packages.\n"
     ]
    }
   ],
   "source": [
    "pip install tensorflow"
   ]
  },
  {
   "cell_type": "code",
   "execution_count": 7,
   "id": "01d7ec9a-b42f-46e5-9fa6-ea13f39038f1",
   "metadata": {},
   "outputs": [],
   "source": [
    "# this sectionm is for model\n",
    "import tensorflow as tf"
   ]
  },
  {
   "cell_type": "code",
   "execution_count": 21,
   "id": "7176b105-3a76-42cd-8e19-c667dee8b0b1",
   "metadata": {},
   "outputs": [],
   "source": [
    "class NeuralNetwork:\n",
    "    \n",
    "    def _init_(self,layers):\n",
    "          self.layers=layers\n",
    "          self.L=len(layers)  \n",
    "            \n",
    "          self.number_feature=layers[0]\n",
    "          self.number_class=layers[-1]\n",
    "          \n",
    "        # creating weight an dbias\n",
    "          self.W={}\n",
    "          self.b={}\n",
    "    \n",
    "          self.dw={}\n",
    "          self.db={}\n",
    "    \n",
    "          self.setup()\n",
    "          \n",
    "    def setup(self):\n",
    "        for i in range(1,self.L):\n",
    "            self.W[i]=tf.Variable(tf.random.normal(shape=(self.layers[i],self.layers[i-1])))\n",
    "            self.b[i]=tf.Variable(tf.random.normal(shape=(self.layers[i],1)))"
   ]
  },
  {
   "cell_type": "code",
   "execution_count": null,
   "id": "3aab42c8-ce0a-4de5-878a-884232b7f3f8",
   "metadata": {},
   "outputs": [],
   "source": [
    "# 1. dtype=\"float32\"\n",
    "# 2. dtype=np.float32\n",
    "# 3. dtype=tf.float32\n",
    "# 4. dtype=torch.float32"
   ]
  },
  {
   "cell_type": "code",
   "execution_count": 27,
   "id": "91a30b30-f0e0-451b-ab21-abb5fc005037",
   "metadata": {},
   "outputs": [],
   "source": [
    "class NeuralNetwork(NeuralNetwork):\n",
    "    \n",
    "    def forwardpass(self,A):\n",
    "        A=tf.convert_to_tensor(A,dtype=float32)\n",
    "        for i in range(1,self.L):\n",
    "            Z=tf.matmul(A,tf.transpose(self.W[i]))+tf.transpose(self.b[i]) \n",
    "            if i!=self.L-1:\n",
    "                A=tf.nn.relu(Z)\n",
    "            else:\n",
    "                A=Z\n",
    "        return A            "
   ]
  },
  {
   "cell_type": "code",
   "execution_count": 30,
   "id": "f9a29c8d-d644-446a-b39e-074d853233ba",
   "metadata": {},
   "outputs": [],
   "source": [
    "# We will us ethis section for computing loss function and Upgrading the previous parameters\n",
    "class NeuralNetwork(NeuralNetwork):\n",
    "    def compute_loss(self, A,Y):  \n",
    "        return tf.reduce_mean(tf.nn.softmax_cross_entropy_with_logits(Y,A))\n",
    "    \n",
    "    def upgrade_parameters():   \n",
    "      for j in range(1,self.L):\n",
    "        self.W[j].assing_sub(lr*self.dw[j])\n",
    "        self.b[j].assing_sub(lr*self.db[j])"
   ]
  },
  {
   "cell_type": "code",
   "execution_count": 50,
   "id": "f6fbd928-bbba-4fbf-bb9b-7c3d06c3fef9",
   "metadata": {},
   "outputs": [],
   "source": [
    "class NeuralNetwork(NeuralNetwork):\n",
    "   def predict(self,x):\n",
    "    A=self.forwardPass(x)\n",
    "    return tf.argmax(tf.nn.softmax(A),axis=1)\n",
    "\n",
    "   def info(self):\n",
    "    num_params=0\n",
    "    for i in range(1,self.L):\n",
    "        num_params+=self.W[i].shape[0]*self.W[i].shape[1]\n",
    "        num_params+=self.b[i].shape[0]\n",
    "            \n",
    "        print(\"Number of Feature:{}\".format(self.number_feature))\n",
    "        print(\"Total number of class is:{}\".format(self.number_class))\n",
    "        \n",
    "        print(\"Hidden Layer information is:{}\".format())\n",
    "        for j in range(1,self.L-1):\n",
    "            print(\"layer:{},Units {}\".format(j,self.layers[j]))\n",
    "        print(\"Total Number of parameters: {}\".format(num_params))    "
   ]
  },
  {
   "cell_type": "code",
   "execution_count": 85,
   "id": "3f2ee41e-abb7-44d1-b522-33bb1f226203",
   "metadata": {},
   "outputs": [],
   "source": [
    "# training on batch\n",
    "class NeuralNetwork(NeuralNetwork):\n",
    "    \n",
    "    def training_on_batch(self,x,y,lr):\n",
    "        x=tf.convert_to_tensor(x,dtype=tf.float32)\n",
    "        y=tf.convert_to_tensor(y,dtype=tf.float32)\n",
    "        \n",
    "        with tf.GradientTape(presistent=True) as tape:\n",
    "            A=self.fporwardPass(x)\n",
    "            loss=self.compute_loss(A,y)\n",
    "            \n",
    "            for key in self.W.keys():\n",
    "                self.dw[key]=tape.gradient(loss,self.W[key])\n",
    "                self.db[key]=tape.gradient(loss, self.b[key])\n",
    "            \n",
    "            del tape\n",
    "            \n",
    "            self.upgrade_parameters(lr)\n",
    "            \n",
    "            return loss.numpy()"
   ]
  },
  {
   "cell_type": "code",
   "execution_count": 54,
   "id": "d7dad25f-abfa-4491-b7ca-821082e8c03a",
   "metadata": {},
   "outputs": [],
   "source": [
    "#Training Start\n",
    "class NeuralNetwork(NeuralNetwork):\n",
    "    def train(self,x_train, y_train, x_test, y_test, epochs, step_per_epochs, batch_size,lr):\n",
    "        history={\"val_loss\":[],\n",
    "                 \"train_loss\":[],\n",
    "                \"val_acc\":[]}\n",
    "        \n",
    "        for e in range(0,epochs):\n",
    "            training_loss_epochs=0.0\n",
    "            print(\"Epochs {}\".format(e),end=\"|\")\n",
    "            for i in range(step_per_epochs):\n",
    "                x_batch=x_train[i*batch_size:(i+1)*batch_szie]\n",
    "                y_batch=y_train[i*batch_size:(i+1)*batch_szie]\n",
    "                batch_loss=self.training_loss_on_batch(x_batch,y_batch,lr)\n",
    "                epochs_loss_train+=batch_loss\n",
    "                \n",
    "                if i %int(step_per_epochs/10)==0:\n",
    "                    print(end=\".\")\n",
    "                    \n",
    "            history['train_loss'].append(epochs_loss_train/step_per_epochs) \n",
    "         \n",
    "        valA=self.forwardPass(x_test)\n",
    "        history['val_acc'].append(self.compute_loss(y_test, valA).numpy())\n",
    "        \n",
    "        valuePr=self.predict(x_test)\n",
    "        history['val_acc'].append(np.mean(np.argmax(y_test,axis=1)==valuePr.numpy()))\n",
    "        print(\"Value Accuracy: \",history['val_acc'][-1])\n",
    "        \n",
    "        return history   "
   ]
  },
  {
   "cell_type": "code",
   "execution_count": 96,
   "id": "9921441c-c50e-4fcf-9b8f-0306df98a2fe",
   "metadata": {},
   "outputs": [],
   "source": [
    "import numpy as np\n",
    "import matplotlib.pyplot as plt"
   ]
  },
  {
   "cell_type": "code",
   "execution_count": 98,
   "id": "df7b4be8-3ed5-4b84-9706-bc38b18bdcf5",
   "metadata": {},
   "outputs": [],
   "source": [
    "def loadDatasets():\n",
    "    (x_train,y_train),(x_test,y_test)=tf.keras.datasets.mnist.load_data()\n",
    "    x_train=np.reshape(x_train,(x_train.shape[0],784))/255.0\n",
    "    y_train=tf.keras.utils.to_categorical(y_train)\n",
    "    x_test=np.reshape(x_test,(x_test.shape[0],784))/255.0\n",
    "    y_test=tf.keras.utils.to_categorical(y_test)\n",
    "    \n",
    "    print(\"X Train Datasets Shape:{}\".format(x_train.shape))\n",
    "    print(\"Y test Data {}\".format(y_test))\n",
    "    \n",
    "    return (x_train,y_train),(x_test,y_test)\n",
    "\n",
    "def plot_random_sample(x,y,p=None):\n",
    "    indices=np.random.choice(range(0,x.shape[0]),10)\n",
    "    y=np.argmax(y,axis=1)\n",
    "    \n",
    "    if p is None:\n",
    "        p=y\n",
    "        \n",
    "    plt.figure(figsize=(10,4))    \n",
    "    for i, index in enumerate(indices):\n",
    "        plt.subplot(2,5,i+1)\n",
    "        plt.imshow(x[index].reshape(28,28),cmap='binary')\n",
    "        plt.xticks([])\n",
    "        plt.yticks([])\n",
    "        plt.gray()\n",
    "        \n",
    "        \n",
    "        if y[index]==p[index]:\n",
    "            col='g'\n",
    "        else:\n",
    "            col='r'\n",
    "        plt.xlabel(str(p[index]),color=col)\n",
    "        \n",
    "    return plt "
   ]
  },
  {
   "cell_type": "code",
   "execution_count": 94,
   "id": "4894fc20-715d-47e9-8ccc-26328c335675",
   "metadata": {},
   "outputs": [
    {
     "name": "stdout",
     "output_type": "stream",
     "text": [
      "X Train Datasets Shape:(60000, 784)\n",
      "Y test Data [[0. 0. 0. ... 1. 0. 0.]\n",
      " [0. 0. 1. ... 0. 0. 0.]\n",
      " [0. 1. 0. ... 0. 0. 0.]\n",
      " ...\n",
      " [0. 0. 0. ... 0. 0. 0.]\n",
      " [0. 0. 0. ... 0. 0. 0.]\n",
      " [0. 0. 0. ... 0. 0. 0.]]\n"
     ]
    }
   ],
   "source": [
    "(x_train,y_train),(x_test,y_test)=loadDatasets()"
   ]
  },
  {
   "cell_type": "code",
   "execution_count": 99,
   "id": "96ac9a74-1c0b-49fb-9d89-4d2daa25b6cc",
   "metadata": {},
   "outputs": [
    {
     "data": {
      "image/png": "[encoded data removed]",
      "text/plain": [
       "<Figure size 720x288 with 10 Axes>"
      ]
     },
     "metadata": {},
     "output_type": "display_data"
    }
   ],
   "source": [
    "plot_random_sample(x_train,y_train).show()"
   ]
  }
 ],
 "metadata": {
  "kernelspec": {
   "display_name": "Python 3 (ipykernel)",
   "language": "python",
   "name": "python3"
  },
  "language_info": {
   "codemirror_mode": {
    "name": "ipython",
    "version": 3
   },
   "file_extension": ".py",
   "mimetype": "text/x-python",
   "name": "python",
   "nbconvert_exporter": "python",
   "pygments_lexer": "ipython3",
   "version": "3.9.12"
  }
 },
 "nbformat": 4,
 "nbformat_minor": 5
}
