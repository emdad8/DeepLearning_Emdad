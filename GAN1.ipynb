{
 "cells": [
  {
   "cell_type": "code",
   "execution_count": 2,
   "id": "f389d6f7-c8ee-4db7-be54-be077833af49",
   "metadata": {},
   "outputs": [
    {
     "name": "stdout",
     "output_type": "stream",
     "text": [
      "Requirement already satisfied: torchvision in c:\\users\\administrator\\anaconda3\\lib\\site-packages (0.14.0)\n",
      "Requirement already satisfied: torch==1.13.0 in c:\\users\\administrator\\anaconda3\\lib\\site-packages (from torchvision) (1.13.0)\n",
      "Requirement already satisfied: typing-extensions in c:\\users\\administrator\\anaconda3\\lib\\site-packages (from torchvision) (4.1.1)\n",
      "Requirement already satisfied: numpy in c:\\users\\administrator\\anaconda3\\lib\\site-packages (from torchvision) (1.21.5)\n",
      "Requirement already satisfied: requests in c:\\users\\administrator\\anaconda3\\lib\\site-packages (from torchvision) (2.27.1)\n",
      "Requirement already satisfied: pillow!=8.3.*,>=5.3.0 in c:\\users\\administrator\\anaconda3\\lib\\site-packages (from torchvision) (9.0.1)\n",
      "Requirement already satisfied: certifi>=2017.4.17 in c:\\users\\administrator\\anaconda3\\lib\\site-packages (from requests->torchvision) (2021.10.8)\n",
      "Requirement already satisfied: idna<4,>=2.5 in c:\\users\\administrator\\anaconda3\\lib\\site-packages (from requests->torchvision) (3.3)\n",
      "Requirement already satisfied: charset-normalizer~=2.0.0 in c:\\users\\administrator\\anaconda3\\lib\\site-packages (from requests->torchvision) (2.0.4)\n",
      "Requirement already satisfied: urllib3<1.27,>=1.21.1 in c:\\users\\administrator\\anaconda3\\lib\\site-packages (from requests->torchvision) (1.26.9)\n",
      "Note: you may need to restart the kernel to use updated packages.\n"
     ]
    }
   ],
   "source": [
    "pip install torchvision"
   ]
  },
  {
   "cell_type": "code",
   "execution_count": 6,
   "id": "cd27aa50-0778-482b-b12b-c1226c275a1e",
   "metadata": {},
   "outputs": [],
   "source": [
    "import os\n",
    "import time\n",
    "import numpy as np\n",
    "\n",
    "import torch\n",
    "import torch.nn as nn\n",
    "import torch.nn.functional as F\n",
    "\n",
    "from torchvision import datasets\n",
    "from torch.utils.data import DataLoader\n",
    "import torchvision.transforms as transforms\n",
    "from torch import optim\n",
    "from torchvision.transforms.functional import pil_to_tensor\n",
    "\n",
    "import matplotlib.pyplot as plt\n",
    "\n",
    "import warnings\n",
    "warnings.filterwarnings(\"ignore\")\n",
    "\n",
    "%matplotlib inline"
   ]
  },
  {
   "cell_type": "code",
   "execution_count": 8,
   "id": "c056890a-c963-4ad3-b8be-734c0f4d0008",
   "metadata": {},
   "outputs": [],
   "source": [
    "device=torch.device(\"cuda\" if torch.cuda.is_available() else \"cpu\")"
   ]
  },
  {
   "cell_type": "code",
   "execution_count": 9,
   "id": "6f038354-1412-47cb-b8aa-f1d9bfb89b69",
   "metadata": {},
   "outputs": [],
   "source": [
    "dataPath=\"data\"\n",
    "os.makedirs(dataPath, exist_ok=True)"
   ]
  },
  {
   "cell_type": "code",
   "execution_count": 10,
   "id": "0858e41f-d640-4860-a039-a39f8ecbeed1",
   "metadata": {},
   "outputs": [
    {
     "name": "stdout",
     "output_type": "stream",
     "text": [
      "Downloading http://yann.lecun.com/exdb/mnist/train-images-idx3-ubyte.gz\n",
      "Downloading http://yann.lecun.com/exdb/mnist/train-images-idx3-ubyte.gz to data\\MNIST\\raw\\train-images-idx3-ubyte.gz\n"
     ]
    },
    {
     "data": {
      "application/vnd.jupyter.widget-view+json": {
       "model_id": "2f49aabb92ab497d831dbcdfeed55113",
       "version_major": 2,
       "version_minor": 0
      },
      "text/plain": [
       "  0%|          | 0/9912422 [00:00<?, ?it/s]"
      ]
     },
     "metadata": {},
     "output_type": "display_data"
    },
    {
     "name": "stdout",
     "output_type": "stream",
     "text": [
      "Extracting data\\MNIST\\raw\\train-images-idx3-ubyte.gz to data\\MNIST\\raw\n",
      "\n",
      "Downloading http://yann.lecun.com/exdb/mnist/train-labels-idx1-ubyte.gz\n",
      "Downloading http://yann.lecun.com/exdb/mnist/train-labels-idx1-ubyte.gz to data\\MNIST\\raw\\train-labels-idx1-ubyte.gz\n"
     ]
    },
    {
     "data": {
      "application/vnd.jupyter.widget-view+json": {
       "model_id": "af87db78597141c5ad2645b2e35bf763",
       "version_major": 2,
       "version_minor": 0
      },
      "text/plain": [
       "  0%|          | 0/28881 [00:00<?, ?it/s]"
      ]
     },
     "metadata": {},
     "output_type": "display_data"
    },
    {
     "name": "stdout",
     "output_type": "stream",
     "text": [
      "Extracting data\\MNIST\\raw\\train-labels-idx1-ubyte.gz to data\\MNIST\\raw\n",
      "\n",
      "Downloading http://yann.lecun.com/exdb/mnist/t10k-images-idx3-ubyte.gz\n",
      "Downloading http://yann.lecun.com/exdb/mnist/t10k-images-idx3-ubyte.gz to data\\MNIST\\raw\\t10k-images-idx3-ubyte.gz\n"
     ]
    },
    {
     "data": {
      "application/vnd.jupyter.widget-view+json": {
       "model_id": "604a2bb8e8f2472d9846b2e9e6458710",
       "version_major": 2,
       "version_minor": 0
      },
      "text/plain": [
       "  0%|          | 0/1648877 [00:00<?, ?it/s]"
      ]
     },
     "metadata": {},
     "output_type": "display_data"
    },
    {
     "name": "stdout",
     "output_type": "stream",
     "text": [
      "Extracting data\\MNIST\\raw\\t10k-images-idx3-ubyte.gz to data\\MNIST\\raw\n",
      "\n",
      "Downloading http://yann.lecun.com/exdb/mnist/t10k-labels-idx1-ubyte.gz\n",
      "Downloading http://yann.lecun.com/exdb/mnist/t10k-labels-idx1-ubyte.gz to data\\MNIST\\raw\\t10k-labels-idx1-ubyte.gz\n"
     ]
    },
    {
     "data": {
      "application/vnd.jupyter.widget-view+json": {
       "model_id": "f65126dbc9fb4fc7a156955c72e858dc",
       "version_major": 2,
       "version_minor": 0
      },
      "text/plain": [
       "  0%|          | 0/4542 [00:00<?, ?it/s]"
      ]
     },
     "metadata": {},
     "output_type": "display_data"
    },
    {
     "name": "stdout",
     "output_type": "stream",
     "text": [
      "Extracting data\\MNIST\\raw\\t10k-labels-idx1-ubyte.gz to data\\MNIST\\raw\n",
      "\n"
     ]
    }
   ],
   "source": [
    "trainDatasets=datasets.MNIST(dataPath, train=True,download=True,\n",
    "                            transform=transforms.Compose([transforms.ToTensor(),\n",
    "                            transforms.Normalize([0.5],[0.5])]))"
   ]
  },
  {
   "cell_type": "code",
   "execution_count": 13,
   "id": "81d5474b-96c5-4445-a08c-f870bde218ef",
   "metadata": {},
   "outputs": [
    {
     "ename": "NameError",
     "evalue": "name 'to_pil_image' is not defined",
     "output_type": "error",
     "traceback": [
      "\u001b[1;31m---------------------------------------------------------------------------\u001b[0m",
      "\u001b[1;31mNameError\u001b[0m                                 Traceback (most recent call last)",
      "Input \u001b[1;32mIn [13]\u001b[0m, in \u001b[0;36m<cell line: 2>\u001b[1;34m()\u001b[0m\n\u001b[0;32m      1\u001b[0m imageData,labelData\u001b[38;5;241m=\u001b[39mtrainDatasets[\u001b[38;5;241m10\u001b[39m]\n\u001b[1;32m----> 2\u001b[0m plt\u001b[38;5;241m.\u001b[39mimshow(\u001b[43mto_pil_image\u001b[49m(imageData),cmap\u001b[38;5;241m=\u001b[39m\u001b[38;5;124m\"\u001b[39m\u001b[38;5;124mgray\u001b[39m\u001b[38;5;124m\"\u001b[39m)\n\u001b[0;32m      3\u001b[0m plt\u001b[38;5;241m.\u001b[39mshow()\n",
      "\u001b[1;31mNameError\u001b[0m: name 'to_pil_image' is not defined"
     ]
    }
   ],
   "source": [
    "imageData,labelData=trainDatasets[10]\n",
    "plt.imshow(to_pil_image(imageData),cmap=\"gray\")\n",
    "plt.show()"
   ]
  },
  {
   "cell_type": "code",
   "execution_count": 14,
   "id": "6e1e9847-25d4-414e-9a23-164843a68325",
   "metadata": {},
   "outputs": [],
   "source": [
    "trainDataLoader=DataLoader(trainDatasets, batch_size=64,shuffle=True)"
   ]
  },
  {
   "cell_type": "code",
   "execution_count": 15,
   "id": "5ad024bd-ce7b-4ae3-a9e9-f11e8d0e0e73",
   "metadata": {},
   "outputs": [
    {
     "name": "stdout",
     "output_type": "stream",
     "text": [
      "X Data shape is :torch.Size([64, 1, 28, 28]) and Y datasets shape is torch.Size([64])\n"
     ]
    }
   ],
   "source": [
    "for x, y in trainDataLoader:\n",
    "    print(\"X Data shape is :{} and Y datasets shape is {}\".format(x.shape,y.shape))\n",
    "    break"
   ]
  },
  {
   "cell_type": "code",
   "execution_count": 16,
   "id": "a9981adf-19bf-4d5f-acdc-81cf71c50399",
   "metadata": {},
   "outputs": [
    {
     "data": {
      "text/plain": [
       "Linear(in_features=1024, out_features=784, bias=True)"
      ]
     },
     "execution_count": 16,
     "metadata": {},
     "output_type": "execute_result"
    }
   ],
   "source": [
    "nn.Linear(1024,int(np.prod([28,28,1])))"
   ]
  },
  {
   "cell_type": "code",
   "execution_count": 27,
   "id": "87bb2c99-8038-451f-84d0-9f3e1685b049",
   "metadata": {},
   "outputs": [],
   "source": [
    "class Generator(nn.Module):\n",
    "    def __init__(self, parameter):\n",
    "        #Parent Class\n",
    "        super().__init__()\n",
    "        self.noise = parameter['noise']\n",
    "        self.image_size = parameter['image_size']\n",
    "        \n",
    "        \n",
    "        self.model =  nn.Sequential(\n",
    "            *self.fc_layers(self.noise, 128, normalize = False),\n",
    "            *self.fc_layers(128, 256),\n",
    "            *self.fc_layers(256, 512), \n",
    "            *self.fc_layers(512, 1024),\n",
    "            nn.Linear(1024, int(np.prod(self.image_size))),\n",
    "            nn.Tanh()\n",
    "        )\n",
    "        \n",
    "    def forward(self, z):\n",
    "        image = self.model(z)\n",
    "        image = image.view(image.size(0),*self.image_size)\n",
    "        return image\n",
    "    \n",
    "    \n",
    "    def fc_layers(self, in_channel,out_channel, normalize = True):\n",
    "        layers = []\n",
    "        layers.append(nn.Linear(in_channel, out_channel))\n",
    "        \n",
    "        if normalize:\n",
    "            layers.append(nn.BatchNorm1d(out_channel, 0.8))\n",
    "            \n",
    "        layers.append(nn.LeakyReLU(0.2))\n",
    "        return layers"
   ]
  },
  {
   "cell_type": "code",
   "execution_count": 28,
   "id": "c0f8bf5e-2c3d-461f-8a2e-b17099d100fc",
   "metadata": {},
   "outputs": [],
   "source": [
    "params={'noise':100,\n",
    "       \"image_size\":(1,28,28)}"
   ]
  },
  {
   "cell_type": "code",
   "execution_count": 29,
   "id": "d294d1b0-e8e2-4976-8499-219861d7ca06",
   "metadata": {},
   "outputs": [],
   "source": [
    "x=torch.rand(16,100).to(device)"
   ]
  },
  {
   "cell_type": "code",
   "execution_count": 30,
   "id": "186b14d2-560c-44da-a5fa-c93b050412f6",
   "metadata": {},
   "outputs": [],
   "source": [
    "model_generator=Generator(params).to(device)"
   ]
  },
  {
   "cell_type": "code",
   "execution_count": 31,
   "id": "5f649c14-f755-4b61-999c-37d8dda05c1b",
   "metadata": {},
   "outputs": [],
   "source": [
    "model_generator_output=model_generator(x)"
   ]
  },
  {
   "cell_type": "code",
   "execution_count": 33,
   "id": "6d0c0652-9710-4f69-943a-e6a3ddcd0e48",
   "metadata": {},
   "outputs": [
    {
     "name": "stdout",
     "output_type": "stream",
     "text": [
      "Our Generator Model Output:torch.Size([16, 1, 28, 28])\n"
     ]
    }
   ],
   "source": [
    "print(\"Our Generator Model Output:{}\".format(model_generator_output.shape))"
   ]
  },
  {
   "cell_type": "code",
   "execution_count": null,
   "id": "89ba4190-e896-48f1-afcf-47b34610755b",
   "metadata": {},
   "outputs": [],
   "source": [
    "class Discriminator(nn.Module):\n",
    "    def __init__(self, parameter):\n",
    "        #Parent Class\n",
    "        super().__init__()\n",
    "        self.image_size = parameter['image_size']\n",
    "        \n",
    "        self.model=nn.Sequential(nn.Linear(int(np.prod(self.image_size)),512\n",
    "                                          nn.LeakyReLU(0.2),\n",
    "                                          nn.Linear(512,256),\n",
    "                                          nn.LeakyReLU(0.2),\n",
    "                                          nn.Linear(256,1)),\n",
    "                                          n.Sigmoid())\n",
    "    def forward(self, x):\n",
    "        x=x.view(image.size(0),-1)\n",
    "        image=self.mode(z)    \n",
    "        image=image.view(image.size(0),*self.image_size)\n",
    "        return image\n",
    "    \n",
    "    \n",
    "    \n",
    "    "
   ]
  }
 ],
 "metadata": {
  "kernelspec": {
   "display_name": "Python 3 (ipykernel)",
   "language": "python",
   "name": "python3"
  },
  "language_info": {
   "codemirror_mode": {
    "name": "ipython",
    "version": 3
   },
   "file_extension": ".py",
   "mimetype": "text/x-python",
   "name": "python",
   "nbconvert_exporter": "python",
   "pygments_lexer": "ipython3",
   "version": "3.9.12"
  }
 },
 "nbformat": 4,
 "nbformat_minor": 5
}
