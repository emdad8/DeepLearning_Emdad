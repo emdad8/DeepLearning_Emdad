{
  "nbformat": 4,
  "nbformat_minor": 0,
  "metadata": {
    "colab": {
      "provenance": []
    },
    "kernelspec": {
      "name": "python3",
      "display_name": "Python 3"
    },
    "language_info": {
      "name": "python"
    }
  },
  "cells": [
    {
      "cell_type": "code",
      "execution_count": 14,
      "metadata": {
        "colab": {
          "base_uri": "https://localhost:8080/"
        },
        "id": "FKjpuNUM8r3o",
        "outputId": "e514db67-16f5-426b-b940-50c63f37ed7f"
      },
      "outputs": [
        {
          "output_type": "stream",
          "name": "stdout",
          "text": [
            "Training Dataset Shape: (60000, 28, 28, 1)\n",
            "No. of Training Dataset Labels: 60000\n",
            "Test Dataset Shape: (10000, 28, 28, 1)\n",
            "No. of Test Dataset Labels: 10000\n"
          ]
        }
      ],
      "source": [
        "#Done by Emdadul Haque Batch 9\n",
        "import tensorflow as tf \n",
        "from tensorflow import keras as ks\n",
        "\n",
        "mnist_fashion = ks.datasets.fashion_mnist\n",
        "(training_images, training_labels), (test_images, test_labels) = mnist_fashion.load_data()\n",
        "\n",
        "# Scale values\n",
        "training_images = training_images / 255.0\n",
        "test_images = test_images / 255.0\n",
        "\n",
        "training_images = training_images.reshape((60000, 28, 28, 1))\n",
        "test_images = test_images.reshape((10000, 28, 28, 1))\n",
        "print('Training Dataset Shape: {}'.format(training_images.shape))\n",
        "print('No. of Training Dataset Labels: {}'.format(len(training_labels)))\n",
        "print('Test Dataset Shape: {}'.format(test_images.shape))\n",
        "print('No. of Test Dataset Labels: {}'.format(len(test_labels)))\n",
        "\n",
        "cnn_model = ks.models.Sequential()\n",
        "# # Write model here\n",
        "# 1. Create a Model\n",
        "# 2. Compile the model\n",
        "# 3. Show the Model Summary\n",
        "# 4. Fit the model"
      ]
    },
    {
      "cell_type": "code",
      "source": [
        "len(test_images)"
      ],
      "metadata": {
        "colab": {
          "base_uri": "https://localhost:8080/"
        },
        "id": "_P0XxBaf88zw",
        "outputId": "8bc80caf-171c-4557-b87f-695dfa46e8e7"
      },
      "execution_count": 2,
      "outputs": [
        {
          "output_type": "execute_result",
          "data": {
            "text/plain": [
              "10000"
            ]
          },
          "metadata": {},
          "execution_count": 2
        }
      ]
    },
    {
      "cell_type": "code",
      "source": [
        "len(training_images)"
      ],
      "metadata": {
        "colab": {
          "base_uri": "https://localhost:8080/"
        },
        "id": "UDSfVejg9K4L",
        "outputId": "27559b7b-2dfb-40a5-8417-7fe85ccbec87"
      },
      "execution_count": 3,
      "outputs": [
        {
          "output_type": "execute_result",
          "data": {
            "text/plain": [
              "60000"
            ]
          },
          "metadata": {},
          "execution_count": 3
        }
      ]
    },
    {
      "cell_type": "code",
      "source": [
        "training_images\n"
      ],
      "metadata": {
        "id": "AZ6p6ziGfmGC"
      },
      "execution_count": null,
      "outputs": []
    },
    {
      "cell_type": "code",
      "source": [
        "import numpy as np\n",
        "import pandas as pd\n",
        "\n",
        "import matplotlib.pyplot as plt\n",
        "%matplotlib inline\n",
        "\n",
        "\n",
        "from sklearn.preprocessing import MinMaxScaler\n",
        "import warnings\n",
        "warnings.filterwarnings(\"ignore\")"
      ],
      "metadata": {
        "id": "2K_Nh3NS9vT5"
      },
      "execution_count": 15,
      "outputs": []
    },
    {
      "cell_type": "code",
      "source": [
        "import tensorflow as tf"
      ],
      "metadata": {
        "id": "-GsMaY_IT8i_"
      },
      "execution_count": 17,
      "outputs": []
    },
    {
      "cell_type": "markdown",
      "source": [],
      "metadata": {
        "id": "0dmJU9diT7CH"
      }
    },
    {
      "cell_type": "code",
      "source": [
        "from tensorflow.keras.layers import Convolution2D,Conv2D,Flatten,Dropout,Dense,BatchNormalization,MaxPooling2D\n",
        "from tensorflow.keras.layers import MaxPooling2D\n",
        "from tensorflow.keras.models import Sequential\n",
        "from tensorflow.keras.optimizers import Adam\n",
        "from tensorflow.keras.activations import relu\n",
        "from sklearn.metrics import classification_report,confusion_matrix\n"
      ],
      "metadata": {
        "id": "l3PgtRXX_x4Q"
      },
      "execution_count": 19,
      "outputs": []
    },
    {
      "cell_type": "code",
      "source": [
        "# #Input Layer\n",
        "# cnn_model.add(Conv2D(filters=28,kernel_size=(3,3),activation='relu',input_shape=(28,28,1))) \n",
        "# cnn_model.add(MaxPooling2D(2,2))\n",
        "\n",
        "# #Second Layer\n",
        "# cnn_model.add(Conv2D(filters=28,kernel_size=(3,3),activation='relu')) \n",
        "# cnn_model.add(MaxPooling2D(2,2)) \n",
        "\n",
        "# #ThirdLayer\n",
        "# cnn_model.add(Conv2D(filters=50,kernel_size=(3,3),activation='relu')) \n",
        "# cnn_model.add(MaxPooling2D(2,2))\n",
        "# cnn_model.add(Dropout(0.2))\n",
        "# cnn_model.add(Flatten())\n",
        "# cnn_model.add(Dense(64,activation='relu'))\n",
        "\n",
        "# #Final Layer\n",
        "# cnn_model.add(Dense(10,activation='softmax'))"
      ],
      "metadata": {
        "id": "fN2eJMup9lJr"
      },
      "execution_count": 20,
      "outputs": []
    },
    {
      "cell_type": "code",
      "source": [
        "cnn_model.add(ks.layers.Conv2D(50,(3,3), activation='relu', input_shape=(28,28,1)))"
      ],
      "metadata": {
        "id": "RjvGmqRzSIwb"
      },
      "execution_count": 21,
      "outputs": []
    },
    {
      "cell_type": "code",
      "source": [
        "cnn_model.add(ks.layers.MaxPooling2D((2,2)))"
      ],
      "metadata": {
        "id": "5pWf_WmcSOEC"
      },
      "execution_count": 22,
      "outputs": []
    },
    {
      "cell_type": "code",
      "source": [
        "cnn_model.add(ks.layers.Flatten(name='Flatten'))\n",
        "cnn_model.add(ks.layers.Dense(50, activation='relu'))\n",
        "cnn_model.add(ks.layers.Dense(10, activation='softmax'))"
      ],
      "metadata": {
        "id": "mVrFMOyGSOGx"
      },
      "execution_count": 23,
      "outputs": []
    },
    {
      "cell_type": "code",
      "source": [
        "cnn_model.summary() "
      ],
      "metadata": {
        "colab": {
          "base_uri": "https://localhost:8080/"
        },
        "id": "Ou1Y8KOkUHio",
        "outputId": "ec17d694-b344-4fec-fe9a-27d8fa446186"
      },
      "execution_count": 24,
      "outputs": [
        {
          "output_type": "stream",
          "name": "stdout",
          "text": [
            "Model: \"sequential_1\"\n",
            "_________________________________________________________________\n",
            " Layer (type)                Output Shape              Param #   \n",
            "=================================================================\n",
            " conv2d_3 (Conv2D)           (None, 26, 26, 50)        500       \n",
            "                                                                 \n",
            " max_pooling2d_3 (MaxPooling  (None, 13, 13, 50)       0         \n",
            " 2D)                                                             \n",
            "                                                                 \n",
            " Flatten (Flatten)           (None, 8450)              0         \n",
            "                                                                 \n",
            " dense_2 (Dense)             (None, 50)                422550    \n",
            "                                                                 \n",
            " dense_3 (Dense)             (None, 10)                510       \n",
            "                                                                 \n",
            "=================================================================\n",
            "Total params: 423,560\n",
            "Trainable params: 423,560\n",
            "Non-trainable params: 0\n",
            "_________________________________________________________________\n"
          ]
        }
      ]
    },
    {
      "cell_type": "markdown",
      "source": [
        "We are using Sparse cat crossentropy. In this scenario it is used to calculate difference between true and predicted class"
      ],
      "metadata": {
        "id": "5yQonzBMUPEZ"
      }
    },
    {
      "cell_type": "code",
      "source": [
        "cnn_model.compile(optimizer='adam',loss='sparse_categorical_crossentropy',metrics=['accuracy'])"
      ],
      "metadata": {
        "id": "8XcvWDm3iLkx"
      },
      "execution_count": 26,
      "outputs": []
    },
    {
      "cell_type": "code",
      "source": [
        "# mnist_fashion = ks.datasets.fashion_mnist\n",
        "# (training_images, training_labels), (test_images, test_labels) = mnist_fashion.load_data()\n",
        "\n",
        "# # Scale values\n",
        "# training_images = training_images / 255.0\n",
        "# test_images = test_images / 255.0\n",
        "\n",
        "# training_images = training_images.reshape((60000, 28, 28, 1))\n",
        "# test_images = test_images.reshape((10000, 28, 28, 1))\n",
        "# print('Training Dataset Shape: {}'.format(training_images.shape))\n",
        "# print('No. of Training Dataset Labels: {}'.format(len(training_labels)))\n",
        "# print('Test Dataset Shape: {}'.format(test_images.shape))\n",
        "# print('No. of Test Dataset Labels: {}'.format(len(test_labels)))"
      ],
      "metadata": {
        "id": "FtLnZCC7mK-z"
      },
      "execution_count": 54,
      "outputs": []
    },
    {
      "cell_type": "code",
      "source": [
        "cnn_model.fit(training_images,training_labels,epochs=10)"
      ],
      "metadata": {
        "colab": {
          "base_uri": "https://localhost:8080/"
        },
        "id": "eDlHGjtyijM0",
        "outputId": "f8217d86-bdab-4129-89b5-616e612a6bf1"
      },
      "execution_count": 27,
      "outputs": [
        {
          "output_type": "stream",
          "name": "stdout",
          "text": [
            "Epoch 1/10\n",
            "1875/1875 [==============================] - 34s 18ms/step - loss: 0.4126 - accuracy: 0.8544\n",
            "Epoch 2/10\n",
            "1875/1875 [==============================] - 33s 18ms/step - loss: 0.2849 - accuracy: 0.8982\n",
            "Epoch 3/10\n",
            "1875/1875 [==============================] - 33s 18ms/step - loss: 0.2437 - accuracy: 0.9123\n",
            "Epoch 4/10\n",
            "1875/1875 [==============================] - 34s 18ms/step - loss: 0.2142 - accuracy: 0.9225\n",
            "Epoch 5/10\n",
            "1875/1875 [==============================] - 33s 18ms/step - loss: 0.1918 - accuracy: 0.9288\n",
            "Epoch 6/10\n",
            "1875/1875 [==============================] - 33s 18ms/step - loss: 0.1679 - accuracy: 0.9388\n",
            "Epoch 7/10\n",
            "1875/1875 [==============================] - 33s 18ms/step - loss: 0.1482 - accuracy: 0.9448\n",
            "Epoch 8/10\n",
            "1875/1875 [==============================] - 33s 18ms/step - loss: 0.1318 - accuracy: 0.9512\n",
            "Epoch 9/10\n",
            "1875/1875 [==============================] - 33s 18ms/step - loss: 0.1166 - accuracy: 0.9566\n",
            "Epoch 10/10\n",
            "1875/1875 [==============================] - 33s 18ms/step - loss: 0.1034 - accuracy: 0.9618\n"
          ]
        },
        {
          "output_type": "execute_result",
          "data": {
            "text/plain": [
              "<keras.callbacks.History at 0x7ff0b2f26a30>"
            ]
          },
          "metadata": {},
          "execution_count": 27
        }
      ]
    },
    {
      "cell_type": "markdown",
      "source": [
        "Evaluation"
      ],
      "metadata": {
        "id": "1n5rhrKGTbMZ"
      }
    },
    {
      "cell_type": "code",
      "source": [
        "training_loss, training_accuracy = cnn_model.evaluate(training_images, training_labels)\n",
        "print('Training accuracy {}'.format(round(float(training_accuracy), 2)))"
      ],
      "metadata": {
        "colab": {
          "base_uri": "https://localhost:8080/"
        },
        "id": "NManCIwZi1dN",
        "outputId": "74610f33-caeb-4536-c191-db15a1d3965a"
      },
      "execution_count": 28,
      "outputs": [
        {
          "output_type": "stream",
          "name": "stdout",
          "text": [
            "1875/1875 [==============================] - 12s 6ms/step - loss: 0.0850 - accuracy: 0.9695\n",
            "Training accuracy 0.97\n"
          ]
        }
      ]
    },
    {
      "cell_type": "code",
      "source": [
        "test_loss,test_accuracy = cnn_model.evaluate(test_images, test_labels)\n",
        "print('Test Accuracy {}'.format(round(float(test_accuracy),2)))"
      ],
      "metadata": {
        "colab": {
          "base_uri": "https://localhost:8080/"
        },
        "id": "am1URk9nTg48",
        "outputId": "a0343579-57e7-478e-fba9-166faca369f1"
      },
      "execution_count": 29,
      "outputs": [
        {
          "output_type": "stream",
          "name": "stdout",
          "text": [
            "313/313 [==============================] - 2s 7ms/step - loss: 0.2960 - accuracy: 0.9131\n",
            "Test Accuracy 0.91\n"
          ]
        }
      ]
    },
    {
      "cell_type": "code",
      "source": [],
      "metadata": {
        "id": "z4U1_WL7Tk3-"
      },
      "execution_count": null,
      "outputs": []
    },
    {
      "cell_type": "markdown",
      "source": [],
      "metadata": {
        "id": "wpFDyASrTqA4"
      }
    }
  ]
}